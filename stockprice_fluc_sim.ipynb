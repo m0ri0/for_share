{
 "cells": [
  {
   "cell_type": "code",
   "execution_count": 1,
   "id": "843a5707-e2dd-4f90-ba78-137a4a644d87",
   "metadata": {},
   "outputs": [],
   "source": [
    "from qiskit import IBMQ\n",
    "\n",
    "import numpy as np\n",
    "import matplotlib.pyplot as plt\n",
    "\n",
    "from qiskit import QuantumRegister, QuantumCircuit, ClassicalRegister\n",
    "from qiskit.circuit.library import IntegerComparator\n",
    "from qiskit_algorithms import IterativeAmplitudeEstimation, EstimationProblem\n",
    "from qiskit_aer.primitives import Sampler\n",
    "from qiskit_finance.circuit.library import GaussianConditionalIndependenceModel as GCI\n",
    "from qiskit.providers.ibmq import least_busy\n",
    "from qiskit import execute, Aer\n",
    "from qiskit.qasm import pi\n",
    "\n",
    "import math\n",
    "\n",
    "from qiskit.primitives import BackendSampler"
   ]
  },
  {
   "cell_type": "code",
   "execution_count": 2,
   "id": "aaab4cb2-88bc-4478-8410-3807c09232ce",
   "metadata": {},
   "outputs": [],
   "source": [
    "num = 5 #株の数（もしくは変動日数）\n",
    "theta = math.pi/2 #株の上下変動のしやすさ"
   ]
  },
  {
   "cell_type": "code",
   "execution_count": 3,
   "id": "f53b94fc-d64c-4907-b27f-042caa59563a",
   "metadata": {},
   "outputs": [
    {
     "data": {
      "text/html": [
       "<pre style=\"word-wrap: normal;white-space: pre;background: #fff0;line-height: 1.1;font-family: &quot;Courier New&quot;,Courier,monospace\">     ┌─────────┐\n",
       "q_0: ┤ Ry(π/2) ├\n",
       "     ├─────────┤\n",
       "q_1: ┤ Ry(π/2) ├\n",
       "     ├─────────┤\n",
       "q_2: ┤ Ry(π/2) ├\n",
       "     ├─────────┤\n",
       "q_3: ┤ Ry(π/2) ├\n",
       "     ├─────────┤\n",
       "q_4: ┤ Ry(π/2) ├\n",
       "     └─────────┘</pre>"
      ],
      "text/plain": [
       "     ┌─────────┐\n",
       "q_0: ┤ Ry(π/2) ├\n",
       "     ├─────────┤\n",
       "q_1: ┤ Ry(π/2) ├\n",
       "     ├─────────┤\n",
       "q_2: ┤ Ry(π/2) ├\n",
       "     ├─────────┤\n",
       "q_3: ┤ Ry(π/2) ├\n",
       "     ├─────────┤\n",
       "q_4: ┤ Ry(π/2) ├\n",
       "     └─────────┘"
      ]
     },
     "execution_count": 3,
     "metadata": {},
     "output_type": "execute_result"
    }
   ],
   "source": [
    "qc = QuantumCircuit(num)\n",
    "\n",
    "for i in range(num):\n",
    "    qc.ry(theta,i)\n",
    "\n",
    "qc_measure = qc.measure_all(inplace=False)\n",
    "\n",
    "qc.draw()"
   ]
  },
  {
   "cell_type": "code",
   "execution_count": 4,
   "id": "4ae1d55d-d375-4c2a-9b48-40f01c8e8f73",
   "metadata": {},
   "outputs": [
    {
     "data": {
      "text/html": [
       "<pre style=\"word-wrap: normal;white-space: pre;background: #fff0;line-height: 1.1;font-family: &quot;Courier New&quot;,Courier,monospace\">         ┌──────────────┐┌─────────┐                  \n",
       "state_0: ┤0             ├┤0        ├──────────────────\n",
       "         │              ││         │                  \n",
       "state_1: ┤1             ├┤1        ├──────────────────\n",
       "         │              ││         │                  \n",
       "state_2: ┤2 circuit-161 ├┤2        ├──────────────────\n",
       "         │              ││         │                  \n",
       "state_3: ┤3             ├┤3        ├──────────────────\n",
       "         │              ││         │                  \n",
       "state_4: ┤4             ├┤4        ├──────────────────\n",
       "         └──────────────┘│         │┌─┐               \n",
       "  sum_0: ────────────────┤5        ├┤M├───────────────\n",
       "                         │         │└╥┘┌─┐            \n",
       "  sum_1: ────────────────┤6        ├─╫─┤M├────────────\n",
       "                         │         │ ║ └╥┘┌─┐         \n",
       "  sum_2: ────────────────┤7        ├─╫──╫─┤M├─────────\n",
       "                         │         │ ║  ║ └╥┘┌─┐      \n",
       "  sum_3: ────────────────┤8  adder ├─╫──╫──╫─┤M├──────\n",
       "                         │         │ ║  ║  ║ └╥┘┌─┐   \n",
       "  sum_4: ────────────────┤9        ├─╫──╫──╫──╫─┤M├───\n",
       "                         │         │ ║  ║  ║  ║ └╥┘┌─┐\n",
       "  sum_5: ────────────────┤10       ├─╫──╫──╫──╫──╫─┤M├\n",
       "                         │         │ ║  ║  ║  ║  ║ └╥┘\n",
       "carry_0: ────────────────┤11       ├─╫──╫──╫──╫──╫──╫─\n",
       "                         │         │ ║  ║  ║  ║  ║  ║ \n",
       "carry_1: ────────────────┤12       ├─╫──╫──╫──╫──╫──╫─\n",
       "                         │         │ ║  ║  ║  ║  ║  ║ \n",
       "carry_2: ────────────────┤13       ├─╫──╫──╫──╫──╫──╫─\n",
       "                         │         │ ║  ║  ║  ║  ║  ║ \n",
       "carry_3: ────────────────┤14       ├─╫──╫──╫──╫──╫──╫─\n",
       "                         │         │ ║  ║  ║  ║  ║  ║ \n",
       "carry_4: ────────────────┤15       ├─╫──╫──╫──╫──╫──╫─\n",
       "                         │         │ ║  ║  ║  ║  ║  ║ \n",
       "carry_5: ────────────────┤16       ├─╫──╫──╫──╫──╫──╫─\n",
       "                         └─────────┘ ║  ║  ║  ║  ║  ║ \n",
       "value: 6/════════════════════════════╩══╩══╩══╩══╩══╩═\n",
       "                                     0  1  2  3  4  5 </pre>"
      ],
      "text/plain": [
       "         ┌──────────────┐┌─────────┐                  \n",
       "state_0: ┤0             ├┤0        ├──────────────────\n",
       "         │              ││         │                  \n",
       "state_1: ┤1             ├┤1        ├──────────────────\n",
       "         │              ││         │                  \n",
       "state_2: ┤2 circuit-161 ├┤2        ├──────────────────\n",
       "         │              ││         │                  \n",
       "state_3: ┤3             ├┤3        ├──────────────────\n",
       "         │              ││         │                  \n",
       "state_4: ┤4             ├┤4        ├──────────────────\n",
       "         └──────────────┘│         │┌─┐               \n",
       "  sum_0: ────────────────┤5        ├┤M├───────────────\n",
       "                         │         │└╥┘┌─┐            \n",
       "  sum_1: ────────────────┤6        ├─╫─┤M├────────────\n",
       "                         │         │ ║ └╥┘┌─┐         \n",
       "  sum_2: ────────────────┤7        ├─╫──╫─┤M├─────────\n",
       "                         │         │ ║  ║ └╥┘┌─┐      \n",
       "  sum_3: ────────────────┤8  adder ├─╫──╫──╫─┤M├──────\n",
       "                         │         │ ║  ║  ║ └╥┘┌─┐   \n",
       "  sum_4: ────────────────┤9        ├─╫──╫──╫──╫─┤M├───\n",
       "                         │         │ ║  ║  ║  ║ └╥┘┌─┐\n",
       "  sum_5: ────────────────┤10       ├─╫──╫──╫──╫──╫─┤M├\n",
       "                         │         │ ║  ║  ║  ║  ║ └╥┘\n",
       "carry_0: ────────────────┤11       ├─╫──╫──╫──╫──╫──╫─\n",
       "                         │         │ ║  ║  ║  ║  ║  ║ \n",
       "carry_1: ────────────────┤12       ├─╫──╫──╫──╫──╫──╫─\n",
       "                         │         │ ║  ║  ║  ║  ║  ║ \n",
       "carry_2: ────────────────┤13       ├─╫──╫──╫──╫──╫──╫─\n",
       "                         │         │ ║  ║  ║  ║  ║  ║ \n",
       "carry_3: ────────────────┤14       ├─╫──╫──╫──╫──╫──╫─\n",
       "                         │         │ ║  ║  ║  ║  ║  ║ \n",
       "carry_4: ────────────────┤15       ├─╫──╫──╫──╫──╫──╫─\n",
       "                         │         │ ║  ║  ║  ║  ║  ║ \n",
       "carry_5: ────────────────┤16       ├─╫──╫──╫──╫──╫──╫─\n",
       "                         └─────────┘ ║  ║  ║  ║  ║  ║ \n",
       "value: 6/════════════════════════════╩══╩══╩══╩══╩══╩═\n",
       "                                     0  1  2  3  4  5 "
      ]
     },
     "execution_count": 4,
     "metadata": {},
     "output_type": "execute_result"
    }
   ],
   "source": [
    "from qiskit.circuit.library import WeightedAdder\n",
    "from qiskit.circuit.library import LinearAmplitudeFunction\n",
    "\n",
    "agg = WeightedAdder(num, [10,10,10,10,10])\n",
    "\n",
    "qr_state = QuantumRegister(qc.num_qubits, \"state\")\n",
    "qr_sum = QuantumRegister(agg.num_sum_qubits, \"sum\")\n",
    "qr_carry = QuantumRegister(agg.num_carry_qubits+1, \"carry\")\n",
    "cr = ClassicalRegister(agg.num_sum_qubits, \"value\")\n",
    "\n",
    "L_sum_state = QuantumCircuit(qr_state, qr_sum, qr_carry, cr)\n",
    "\n",
    "# load the variable\n",
    "L_sum_state.append(qc.to_gate(), qr_state)\n",
    "\n",
    "# aggregate\n",
    "L_sum_state.append(agg.to_gate(), qr_state[:] + qr_sum[:] + qr_carry[:])\n",
    "\n",
    "L_sum_state.measure(qr_sum[:],cr[:])\n",
    "\n",
    "L_sum_state.draw()"
   ]
  },
  {
   "cell_type": "code",
   "execution_count": 8,
   "id": "5e69c2fd-4d92-47df-ac64-ade6afeb4930",
   "metadata": {},
   "outputs": [
    {
     "data": {
      "text/html": [
       "<pre style=\"word-wrap: normal;white-space: pre;background: #fff0;line-height: 1.1;font-family: &quot;Courier New&quot;,Courier,monospace\">         ┌─────────┐┌───────────────┐                  \n",
       "state_0: ┤ Ry(π/2) ├┤0              ├──────────────────\n",
       "         ├─────────┤│               │                  \n",
       "state_1: ┤ Ry(π/2) ├┤1              ├──────────────────\n",
       "         ├─────────┤│               │                  \n",
       "state_2: ┤ Ry(π/2) ├┤2              ├──────────────────\n",
       "         ├─────────┤│               │                  \n",
       "state_3: ┤ Ry(π/2) ├┤3              ├──────────────────\n",
       "         ├─────────┤│               │                  \n",
       "state_4: ┤ Ry(π/2) ├┤4              ├──────────────────\n",
       "         └─────────┘│               │┌─┐               \n",
       "  sum_0: ───────────┤5              ├┤M├───────────────\n",
       "                    │               │└╥┘┌─┐            \n",
       "  sum_1: ───────────┤6              ├─╫─┤M├────────────\n",
       "                    │               │ ║ └╥┘┌─┐         \n",
       "  sum_2: ───────────┤7              ├─╫──╫─┤M├─────────\n",
       "                    │               │ ║  ║ └╥┘┌─┐      \n",
       "  sum_3: ───────────┤8  circuit-165 ├─╫──╫──╫─┤M├──────\n",
       "                    │               │ ║  ║  ║ └╥┘┌─┐   \n",
       "  sum_4: ───────────┤9              ├─╫──╫──╫──╫─┤M├───\n",
       "                    │               │ ║  ║  ║  ║ └╥┘┌─┐\n",
       "  sum_5: ───────────┤10             ├─╫──╫──╫──╫──╫─┤M├\n",
       "                    │               │ ║  ║  ║  ║  ║ └╥┘\n",
       "carry_0: ───────────┤11             ├─╫──╫──╫──╫──╫──╫─\n",
       "                    │               │ ║  ║  ║  ║  ║  ║ \n",
       "carry_1: ───────────┤12             ├─╫──╫──╫──╫──╫──╫─\n",
       "                    │               │ ║  ║  ║  ║  ║  ║ \n",
       "carry_2: ───────────┤13             ├─╫──╫──╫──╫──╫──╫─\n",
       "                    │               │ ║  ║  ║  ║  ║  ║ \n",
       "carry_3: ───────────┤14             ├─╫──╫──╫──╫──╫──╫─\n",
       "                    │               │ ║  ║  ║  ║  ║  ║ \n",
       "carry_4: ───────────┤15             ├─╫──╫──╫──╫──╫──╫─\n",
       "                    │               │ ║  ║  ║  ║  ║  ║ \n",
       "carry_5: ───────────┤16             ├─╫──╫──╫──╫──╫──╫─\n",
       "                    └───────────────┘ ║  ║  ║  ║  ║  ║ \n",
       "value: 6/═════════════════════════════╩══╩══╩══╩══╩══╩═\n",
       "                                      0  1  2  3  4  5 </pre>"
      ],
      "text/plain": [
       "         ┌─────────┐┌───────────────┐                  \n",
       "state_0: ┤ Ry(π/2) ├┤0              ├──────────────────\n",
       "         ├─────────┤│               │                  \n",
       "state_1: ┤ Ry(π/2) ├┤1              ├──────────────────\n",
       "         ├─────────┤│               │                  \n",
       "state_2: ┤ Ry(π/2) ├┤2              ├──────────────────\n",
       "         ├─────────┤│               │                  \n",
       "state_3: ┤ Ry(π/2) ├┤3              ├──────────────────\n",
       "         ├─────────┤│               │                  \n",
       "state_4: ┤ Ry(π/2) ├┤4              ├──────────────────\n",
       "         └─────────┘│               │┌─┐               \n",
       "  sum_0: ───────────┤5              ├┤M├───────────────\n",
       "                    │               │└╥┘┌─┐            \n",
       "  sum_1: ───────────┤6              ├─╫─┤M├────────────\n",
       "                    │               │ ║ └╥┘┌─┐         \n",
       "  sum_2: ───────────┤7              ├─╫──╫─┤M├─────────\n",
       "                    │               │ ║  ║ └╥┘┌─┐      \n",
       "  sum_3: ───────────┤8  circuit-165 ├─╫──╫──╫─┤M├──────\n",
       "                    │               │ ║  ║  ║ └╥┘┌─┐   \n",
       "  sum_4: ───────────┤9              ├─╫──╫──╫──╫─┤M├───\n",
       "                    │               │ ║  ║  ║  ║ └╥┘┌─┐\n",
       "  sum_5: ───────────┤10             ├─╫──╫──╫──╫──╫─┤M├\n",
       "                    │               │ ║  ║  ║  ║  ║ └╥┘\n",
       "carry_0: ───────────┤11             ├─╫──╫──╫──╫──╫──╫─\n",
       "                    │               │ ║  ║  ║  ║  ║  ║ \n",
       "carry_1: ───────────┤12             ├─╫──╫──╫──╫──╫──╫─\n",
       "                    │               │ ║  ║  ║  ║  ║  ║ \n",
       "carry_2: ───────────┤13             ├─╫──╫──╫──╫──╫──╫─\n",
       "                    │               │ ║  ║  ║  ║  ║  ║ \n",
       "carry_3: ───────────┤14             ├─╫──╫──╫──╫──╫──╫─\n",
       "                    │               │ ║  ║  ║  ║  ║  ║ \n",
       "carry_4: ───────────┤15             ├─╫──╫──╫──╫──╫──╫─\n",
       "                    │               │ ║  ║  ║  ║  ║  ║ \n",
       "carry_5: ───────────┤16             ├─╫──╫──╫──╫──╫──╫─\n",
       "                    └───────────────┘ ║  ║  ║  ║  ║  ║ \n",
       "value: 6/═════════════════════════════╩══╩══╩══╩══╩══╩═\n",
       "                                      0  1  2  3  4  5 "
      ]
     },
     "execution_count": 8,
     "metadata": {},
     "output_type": "execute_result"
    }
   ],
   "source": [
    "L_sum_state.decompose().draw()"
   ]
  },
  {
   "cell_type": "code",
   "execution_count": 5,
   "id": "7b593d99-dd03-422a-a791-29a24024d33f",
   "metadata": {},
   "outputs": [],
   "source": [
    "sampler = Sampler()\n",
    "job = sampler.run(L_sum_state)\n",
    "binary_probabilities = job.result().quasi_dists[0].binary_probabilities()"
   ]
  },
  {
   "cell_type": "code",
   "execution_count": 6,
   "id": "d87a480d-eaeb-49a0-ab2e-2657148597a0",
   "metadata": {},
   "outputs": [
    {
     "name": "stdout",
     "output_type": "stream",
     "text": [
      "011110 0.322265625\n",
      "000000 0.041015625\n",
      "001010 0.1484375\n",
      "110010 0.03515625\n",
      "010100 0.294921875\n",
      "101000 0.158203125\n"
     ]
    }
   ],
   "source": [
    "qubit_state_L = []\n",
    "\n",
    "for i, prob in binary_probabilities.items():\n",
    "    print(i,prob)\n",
    "    qubit_state_L.append([i,prob])\n",
    "\n",
    "qubit_state_L.sort()"
   ]
  },
  {
   "cell_type": "code",
   "execution_count": 7,
   "id": "6ee48998-f30f-4da5-b81d-1dfda0608c61",
   "metadata": {},
   "outputs": [
    {
     "data": {
      "image/png": "[encoded data removed]",
      "text/plain": [
       "<Figure size 640x480 with 1 Axes>"
      ]
     },
     "metadata": {},
     "output_type": "display_data"
    }
   ],
   "source": [
    "# plot probabilities of each states\n",
    "q_state_L = []\n",
    "q_prob_L = []\n",
    "for state in qubit_state_L:\n",
    "    q_state_L.append(state[0])\n",
    "    q_prob_L.append(state[1])\n",
    "\n",
    "plt.bar(q_state_L,q_prob_L)\n",
    "#plt.legend(fontsize=15)\n",
    "plt.xlabel(\"state\", size=10)\n",
    "plt.ylabel(\"probability (%)\", size=10)\n",
    "plt.title(\"Qubit State\", size=20)\n",
    "plt.xticks(size=5,rotation=45)\n",
    "plt.yticks(size=10)\n",
    "plt.show()"
   ]
  }
 ],
 "metadata": {
  "kernelspec": {
   "display_name": "Python 3 (ipykernel)",
   "language": "python",
   "name": "python3"
  },
  "language_info": {
   "codemirror_mode": {
    "name": "ipython",
    "version": 3
   },
   "file_extension": ".py",
   "mimetype": "text/x-python",
   "name": "python",
   "nbconvert_exporter": "python",
   "pygments_lexer": "ipython3",
   "version": "3.9.19"
  }
 },
 "nbformat": 4,
 "nbformat_minor": 5
}
