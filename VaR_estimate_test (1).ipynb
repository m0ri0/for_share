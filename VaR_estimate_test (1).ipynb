{
 "cells": [
  {
   "cell_type": "code",
   "execution_count": 1,
   "id": "fbf6eb44",
   "metadata": {},
   "outputs": [],
   "source": [
    "import numpy as np\n",
    "#import matplotlib.pyplot as plt\n",
    "\n",
    "from qiskit import QuantumRegister, QuantumCircuit\n",
    "from qiskit.circuit.library import IntegerComparator\n",
    "from qiskit_algorithms import IterativeAmplitudeEstimation, EstimationProblem\n",
    "from qiskit_aer.primitives import Sampler\n",
    "from qiskit_finance.circuit.library import GaussianConditionalIndependenceModel as GCI\n",
    "import matplotlib.pyplot as plt"
   ]
  },
  {
   "cell_type": "markdown",
   "id": "e04b7a46-19e5-41d9-b990-af584a6b273c",
   "metadata": {},
   "source": [
    "# ガウシアン独立モデルを利用したVaR推定\n",
    "ここでは、以下のパラメータで計算を行っている。\n",
    "\n",
    "- 資産の数：２個\n",
    "- 各資産の最大損失額：(100, 100)\n",
    "- ガウシアン独立モデル（GCI）のパラメータ\n",
    "    - デフォルトの確率（p0）：(0.01, 0.01)\n",
    "    - GCIを調整するパラメータ：(0.1, 0.1)\n",
    "- VaR推定のパーセンタイル点：99%"
   ]
  },
  {
   "cell_type": "code",
   "execution_count": 2,
   "id": "582feb4e",
   "metadata": {},
   "outputs": [],
   "source": [
    "# set problem parameters\n",
    "n_z = 2 #資産の数\n",
    "z_max = 2 #生成する乱数zの数\n",
    "\n",
    "p_zeros = [0.01, 0.01] #デフォルトの確率\n",
    "rhos = [0.1, 0.1] #GCIを調整するパラメータ\n",
    "lgd = [100, 100] #各資産の最大損失額\n",
    "\n",
    "K = len(p_zeros) #描画用のパラメータ\n",
    "z_values = np.linspace(-z_max, z_max, 2**n_z) #zをプロットするための横軸\n",
    "\n",
    "alpha = 0.01 #VaR推定のパーセンタイル点（0~1で設定可能、）\n",
    "epsilon = 0.01 #量子振幅推定における誤差の許容範囲（0〜0.5で設定可能）"
   ]
  },
  {
   "cell_type": "code",
   "execution_count": 3,
   "id": "583ff6c3-34d7-4871-88e4-b7726483ce42",
   "metadata": {},
   "outputs": [
    {
     "data": {
      "text/html": [
       "<pre style=\"word-wrap: normal;white-space: pre;background: #fff0;line-height: 1.1;font-family: &quot;Courier New&quot;,Courier,monospace\">     ┌───────┐\n",
       "q_0: ┤0      ├\n",
       "     │       │\n",
       "q_1: ┤1      ├\n",
       "     │  P(X) │\n",
       "q_2: ┤2      ├\n",
       "     │       │\n",
       "q_3: ┤3      ├\n",
       "     └───────┘</pre>"
      ],
      "text/plain": [
       "     ┌───────┐\n",
       "q_0: ┤0      ├\n",
       "     │       │\n",
       "q_1: ┤1      ├\n",
       "     │  P(X) │\n",
       "q_2: ┤2      ├\n",
       "     │       │\n",
       "q_3: ┤3      ├\n",
       "     └───────┘"
      ]
     },
     "execution_count": 3,
     "metadata": {},
     "output_type": "execute_result"
    }
   ],
   "source": [
    "u = GCI(n_z, z_max, p_zeros, rhos)\n",
    "u.draw()"
   ]
  },
  {
   "cell_type": "code",
   "execution_count": 4,
   "id": "f8301dc5-2635-42cb-9518-4860e9cf546c",
   "metadata": {},
   "outputs": [],
   "source": [
    "u_measure = u.measure_all(inplace=False)\n",
    "sampler = Sampler()\n",
    "job = sampler.run(u_measure)\n",
    "binary_probabilities = job.result().quasi_dists[0].binary_probabilities()"
   ]
  },
  {
   "cell_type": "code",
   "execution_count": 5,
   "id": "298e8e48-85f4-4fb1-89f6-eaae61d05c03",
   "metadata": {},
   "outputs": [],
   "source": [
    "# analyze uncertainty circuit and determine exact solutions\n",
    "\n",
    "p_z = np.zeros(2**n_z) #zが生成される確率を格納するリスト\n",
    "p_default = np.zeros(K) #zにより計算されるpiを格納するリスト\n",
    "\n",
    "\n",
    "values = [] \n",
    "probabilities = []\n",
    "num_qubits = u.num_qubits\n",
    "qubit_state = []\n",
    "qubit_probabilities = []\n",
    "\n",
    "for i, prob in binary_probabilities.items():\n",
    "    #print(i,prob)\n",
    "    qubit_state.append([i,prob])\n",
    "    # extract value of Z and corresponding probability\n",
    "    i_normal = int(i[-n_z:], 2)\n",
    "    p_z[i_normal] += prob\n",
    "\n",
    "    # determine overall default probability for k\n",
    "    loss = 0\n",
    "    for k in range(K):\n",
    "        if i[K - k - 1] == \"1\":\n",
    "            p_default[k] += prob\n",
    "            loss += lgd[k]\n",
    "\n",
    "    values += [loss]\n",
    "    probabilities += [prob]\n",
    "\n",
    "qubit_state.sort()\n",
    "#print(qubit_state)\n",
    "\n",
    "values = np.array(values)\n",
    "probabilities = np.array(probabilities)\n",
    "\n",
    "expected_loss = np.dot(values, probabilities)\n",
    "losses = np.sort(np.unique(values))\n",
    "pdf = np.zeros(len(losses))\n",
    "for i, v in enumerate(losses):\n",
    "    pdf[i] += sum(probabilities[values == v])\n",
    "cdf = np.cumsum(pdf)"
   ]
  },
  {
   "cell_type": "code",
   "execution_count": 6,
   "id": "434cfb7e-ced4-4840-8049-2fb126c5f984",
   "metadata": {},
   "outputs": [
    {
     "data": {
      "image/png": "[encoded data removed]",
      "text/plain": [
       "<Figure size 640x480 with 1 Axes>"
      ]
     },
     "metadata": {},
     "output_type": "display_data"
    }
   ],
   "source": [
    "# plot probabilities of each states\n",
    "q_state = []\n",
    "q_prob = []\n",
    "for state in qubit_state:\n",
    "    q_state.append(state[0])\n",
    "    q_prob.append(state[1])\n",
    "\n",
    "plt.bar(q_state,q_prob)\n",
    "#plt.legend(fontsize=15)\n",
    "plt.xlabel(\"state\", size=10)\n",
    "plt.ylabel(\"probability (%)\", size=10)\n",
    "plt.title(\"Qubit State\", size=20)\n",
    "plt.xticks(size=10)\n",
    "plt.yticks(size=10)\n",
    "plt.show()"
   ]
  },
  {
   "cell_type": "markdown",
   "id": "6029f490-444c-479c-83a6-30f6dd5d2478",
   "metadata": {},
   "source": [
    "【図の見方】  \n",
    "横軸は量子ビットの状態で、うち前半の２量子ビットがpiに相当。  \n",
    "縦軸は各量子ビットの状態が得られる確率。  \n",
    "なので、ここで前半２量子ビットが同じ状態になっているものを足し合わせれば、資産の損失が生じる確率となる。"
   ]
  },
  {
   "cell_type": "code",
   "execution_count": 7,
   "id": "3e4e8aa0-faae-4668-8a95-c6e99ac77ad1",
   "metadata": {},
   "outputs": [
    {
     "name": "stdout",
     "output_type": "stream",
     "text": [
      "Expected Loss E[L]:                2.2461\n",
      "Value at Risk VaR[L]:              100.0000\n"
     ]
    }
   ],
   "source": [
    "#analyze Expetcedd Loss and Value at Risk in calssical computing method\n",
    "\n",
    "i_var = np.argmax(cdf >= 1 - alpha)\n",
    "exact_var = losses[i_var]\n",
    "#exact_cvar = np.dot(pdf[(i_var + 1) :], losses[(i_var + 1) :]) / sum(pdf[(i_var + 1) :])\n",
    "\n",
    "print(\"Expected Loss E[L]:                %.4f\" % expected_loss)\n",
    "print(\"Value at Risk VaR[L]:              %.4f\" % exact_var)\n",
    "#print(\"P[L <= VaR[L]]:                    %.4f\" % cdf[exact_var])\n",
    "#print(\"Conditional Value at Risk CVaR[L]: %.4f\" % exact_cvar)"
   ]
  },
  {
   "cell_type": "code",
   "execution_count": 8,
   "id": "236824e2-ee4a-46f7-8ac9-4386983d8b17",
   "metadata": {},
   "outputs": [
    {
     "data": {
      "image/png": "[encoded data removed]",
      "text/plain": [
       "<Figure size 640x480 with 1 Axes>"
      ]
     },
     "metadata": {},
     "output_type": "display_data"
    }
   ],
   "source": [
    "# plot loss PDF, expected loss, var, and cvar\n",
    "plt.bar(losses, pdf)\n",
    "plt.axvline(expected_loss, color=\"green\", linestyle=\"--\", label=\"E[L]\")\n",
    "plt.axvline(exact_var, color=\"orange\", linestyle=\"--\", label=\"VaR(L)\")\n",
    "#plt.axvline(exact_cvar, color=\"red\", linestyle=\"--\", label=\"CVaR(L)\")\n",
    "plt.legend(fontsize=15)\n",
    "plt.xlabel(\"Loss L ($)\", size=15)\n",
    "plt.ylabel(\"probability (%)\", size=15)\n",
    "plt.title(\"Loss Distribution\", size=20)\n",
    "plt.xticks(size=15)\n",
    "plt.yticks(size=15)\n",
    "plt.show()"
   ]
  },
  {
   "cell_type": "markdown",
   "id": "ac947980-ffd9-4f7b-b2c4-dcfd6373f07c",
   "metadata": {},
   "source": [
    "【図の見方】  \n",
    "横軸は損失額。縦軸は損失が得られる確率。  \n",
    "今回の計算の場合、デフォルトの確率が0.01前後と非常に低いので、損失の期待値は0に近くなる。"
   ]
  },
  {
   "cell_type": "code",
   "execution_count": 9,
   "id": "29d6bd21-dddc-4132-a74a-616944ab4467",
   "metadata": {},
   "outputs": [
    {
     "data": {
      "image/png": "[encoded data removed]",
      "text/plain": [
       "<Figure size 640x480 with 1 Axes>"
      ]
     },
     "metadata": {},
     "output_type": "display_data"
    }
   ],
   "source": [
    "# plot results for Z\n",
    "plt.plot(z_values, p_z, \"o-\", linewidth=3, markersize=8)\n",
    "plt.grid()\n",
    "plt.xlabel(\"Z value\", size=15)\n",
    "plt.ylabel(\"probability (%)\", size=15)\n",
    "plt.title(\"Z Distribution\", size=20)\n",
    "plt.xticks(size=15)\n",
    "plt.yticks(size=15)\n",
    "plt.show()"
   ]
  },
  {
   "cell_type": "markdown",
   "id": "6f354e58-60cd-4676-85d9-33ccbe5242ca",
   "metadata": {},
   "source": [
    "【図の見方】  \n",
    "横軸はガウシアン独立モデルを生成するZの定義域で、縦軸はzが得られる確率。"
   ]
  },
  {
   "cell_type": "code",
   "execution_count": 10,
   "id": "61cedbc7-1402-446b-ae5a-7110efeaa323",
   "metadata": {
    "scrolled": true
   },
   "outputs": [
    {
     "data": {
      "image/png": "[encoded data removed]",
      "text/plain": [
       "<Figure size 640x480 with 1 Axes>"
      ]
     },
     "metadata": {},
     "output_type": "display_data"
    }
   ],
   "source": [
    "# plot results for default probabilities pi\n",
    "plt.bar(range(K), p_default)\n",
    "plt.xlabel(\"Asset\", size=15)\n",
    "plt.ylabel(\"pi (%)\", size=15)\n",
    "plt.title(\"Individual Default Probabilities\", size=20)\n",
    "plt.xticks(range(K), size=15)\n",
    "plt.yticks(size=15)\n",
    "plt.grid()\n",
    "plt.show()"
   ]
  },
  {
   "cell_type": "markdown",
   "id": "1685cb87-50a2-471c-bce2-65af3f66d668",
   "metadata": {},
   "source": [
    "【図の見方】  \n",
    "生成したzから計算されたガウシアン独立モデルの確率pi。  \n",
    "横軸がそれぞれの資産で、縦軸が資産ごとのpi。"
   ]
  },
  {
   "cell_type": "markdown",
   "id": "7bdb24b2-6a12-469a-a913-7606b38988aa",
   "metadata": {},
   "source": [
    "# 損失の期待値Lを量子コンピュータで計算する方法\n",
    "上では、ガウシアン独立モデルの確率piは量子コンピュータで生成するものの、そこから先は古典コンピュータで計算を行っていた。\n",
    "以下では、損失の期待値E(L)までを量子コンピュータ上で計算するコードになる。"
   ]
  },
  {
   "cell_type": "code",
   "execution_count": 11,
   "id": "2e8810bb-563d-439d-81bc-4124ef563450",
   "metadata": {},
   "outputs": [],
   "source": [
    "# add Z qubits with weight/loss 0\n",
    "from qiskit.circuit.library import WeightedAdder\n",
    "\n",
    "agg = WeightedAdder(n_z + K, [0] * n_z + lgd)"
   ]
  },
  {
   "cell_type": "code",
   "execution_count": 12,
   "id": "5cf390ac-2fb5-4c91-94be-8e2ff5f84021",
   "metadata": {},
   "outputs": [],
   "source": [
    "from qiskit.circuit.library import LinearAmplitudeFunction\n",
    "\n",
    "# define linear objective function\n",
    "breakpoints = [0]\n",
    "slopes = [1]\n",
    "offsets = [0]\n",
    "f_min = 0\n",
    "f_max = sum(lgd)\n",
    "c_approx = 0.25\n",
    "\n",
    "objective = LinearAmplitudeFunction(\n",
    "    agg.num_sum_qubits,\n",
    "    slope=slopes,\n",
    "    offset=offsets,\n",
    "    # max value that can be reached by the qubit register (will not always be reached)\n",
    "    domain=(0, 2**agg.num_sum_qubits - 1),\n",
    "    image=(f_min, f_max),\n",
    "    rescaling_factor=c_approx,\n",
    "    breakpoints=breakpoints,\n",
    ")"
   ]
  },
  {
   "cell_type": "code",
   "execution_count": 13,
   "id": "6430fea8-c1ed-4037-b6de-cf2684495403",
   "metadata": {},
   "outputs": [
    {
     "data": {
      "text/html": [
       "<pre style=\"word-wrap: normal;white-space: pre;background: #fff0;line-height: 1.1;font-family: &quot;Courier New&quot;,Courier,monospace\">           ┌───────┐┌─────────┐      ┌────────────┐\n",
       "  state_0: ┤0      ├┤0        ├──────┤0           ├\n",
       "           │       ││         │      │            │\n",
       "  state_1: ┤1      ├┤1        ├──────┤1           ├\n",
       "           │  P(X) ││         │      │            │\n",
       "  state_2: ┤2      ├┤2        ├──────┤2           ├\n",
       "           │       ││         │      │            │\n",
       "  state_3: ┤3      ├┤3        ├──────┤3           ├\n",
       "           └───────┘│         │┌────┐│            │\n",
       "objective: ─────────┤         ├┤8   ├┤            ├\n",
       "                    │         ││    ││            │\n",
       "    sum_0: ─────────┤4        ├┤0   ├┤4           ├\n",
       "                    │         ││    ││            │\n",
       "    sum_1: ─────────┤5        ├┤1   ├┤5           ├\n",
       "                    │         ││    ││            │\n",
       "    sum_2: ─────────┤6        ├┤2   ├┤6           ├\n",
       "                    │         ││    ││            │\n",
       "    sum_3: ─────────┤7        ├┤3 F ├┤7           ├\n",
       "                    │         ││    ││            │\n",
       "    sum_4: ─────────┤8        ├┤4   ├┤8           ├\n",
       "                    │         ││    ││            │\n",
       "    sum_5: ─────────┤9  adder ├┤5   ├┤9  adder_dg ├\n",
       "                    │         ││    ││            │\n",
       "    sum_6: ─────────┤10       ├┤6   ├┤10          ├\n",
       "                    │         ││    ││            │\n",
       "    sum_7: ─────────┤11       ├┤7   ├┤11          ├\n",
       "                    │         │└────┘│            │\n",
       "  carry_0: ─────────┤12       ├──────┤12          ├\n",
       "                    │         │      │            │\n",
       "  carry_1: ─────────┤13       ├──────┤13          ├\n",
       "                    │         │      │            │\n",
       "  carry_2: ─────────┤14       ├──────┤14          ├\n",
       "                    │         │      │            │\n",
       "  carry_3: ─────────┤15       ├──────┤15          ├\n",
       "                    │         │      │            │\n",
       "  carry_4: ─────────┤16       ├──────┤16          ├\n",
       "                    │         │      │            │\n",
       "  carry_5: ─────────┤17       ├──────┤17          ├\n",
       "                    │         │      │            │\n",
       "  carry_6: ─────────┤18       ├──────┤18          ├\n",
       "                    │         │      │            │\n",
       "  carry_7: ─────────┤19       ├──────┤19          ├\n",
       "                    └─────────┘      └────────────┘</pre>"
      ],
      "text/plain": [
       "           ┌───────┐┌─────────┐      ┌────────────┐\n",
       "  state_0: ┤0      ├┤0        ├──────┤0           ├\n",
       "           │       ││         │      │            │\n",
       "  state_1: ┤1      ├┤1        ├──────┤1           ├\n",
       "           │  P(X) ││         │      │            │\n",
       "  state_2: ┤2      ├┤2        ├──────┤2           ├\n",
       "           │       ││         │      │            │\n",
       "  state_3: ┤3      ├┤3        ├──────┤3           ├\n",
       "           └───────┘│         │┌────┐│            │\n",
       "objective: ─────────┤         ├┤8   ├┤            ├\n",
       "                    │         ││    ││            │\n",
       "    sum_0: ─────────┤4        ├┤0   ├┤4           ├\n",
       "                    │         ││    ││            │\n",
       "    sum_1: ─────────┤5        ├┤1   ├┤5           ├\n",
       "                    │         ││    ││            │\n",
       "    sum_2: ─────────┤6        ├┤2   ├┤6           ├\n",
       "                    │         ││    ││            │\n",
       "    sum_3: ─────────┤7        ├┤3 F ├┤7           ├\n",
       "                    │         ││    ││            │\n",
       "    sum_4: ─────────┤8        ├┤4   ├┤8           ├\n",
       "                    │         ││    ││            │\n",
       "    sum_5: ─────────┤9  adder ├┤5   ├┤9  adder_dg ├\n",
       "                    │         ││    ││            │\n",
       "    sum_6: ─────────┤10       ├┤6   ├┤10          ├\n",
       "                    │         ││    ││            │\n",
       "    sum_7: ─────────┤11       ├┤7   ├┤11          ├\n",
       "                    │         │└────┘│            │\n",
       "  carry_0: ─────────┤12       ├──────┤12          ├\n",
       "                    │         │      │            │\n",
       "  carry_1: ─────────┤13       ├──────┤13          ├\n",
       "                    │         │      │            │\n",
       "  carry_2: ─────────┤14       ├──────┤14          ├\n",
       "                    │         │      │            │\n",
       "  carry_3: ─────────┤15       ├──────┤15          ├\n",
       "                    │         │      │            │\n",
       "  carry_4: ─────────┤16       ├──────┤16          ├\n",
       "                    │         │      │            │\n",
       "  carry_5: ─────────┤17       ├──────┤17          ├\n",
       "                    │         │      │            │\n",
       "  carry_6: ─────────┤18       ├──────┤18          ├\n",
       "                    │         │      │            │\n",
       "  carry_7: ─────────┤19       ├──────┤19          ├\n",
       "                    └─────────┘      └────────────┘"
      ]
     },
     "execution_count": 13,
     "metadata": {},
     "output_type": "execute_result"
    }
   ],
   "source": [
    "# define the registers for convenience and readability\n",
    "qr_state = QuantumRegister(u.num_qubits, \"state\")\n",
    "qr_sum = QuantumRegister(agg.num_sum_qubits, \"sum\")\n",
    "qr_carry = QuantumRegister(agg.num_carry_qubits+1, \"carry\")\n",
    "qr_obj = QuantumRegister(1, \"objective\")\n",
    "\n",
    "# define the circuit\n",
    "state_preparation = QuantumCircuit(qr_state, qr_obj, qr_sum, qr_carry, name=\"A\")\n",
    "\n",
    "# load the random variable\n",
    "state_preparation.append(u.to_gate(), qr_state)\n",
    "\n",
    "# aggregate\n",
    "state_preparation.append(agg.to_gate(), qr_state[:] + qr_sum[:] + qr_carry[:])\n",
    "\n",
    "# linear objective function\n",
    "state_preparation.append(objective.to_gate(), qr_sum[:] + qr_obj[:])\n",
    "\n",
    "# uncompute aggregation\n",
    "state_preparation.append(agg.to_gate().inverse(), qr_state[:] + qr_sum[:] + qr_carry[:])\n",
    "\n",
    "# draw the circuit\n",
    "state_preparation.draw()"
   ]
  },
  {
   "cell_type": "code",
   "execution_count": 14,
   "id": "dae8e5b6-2f85-4051-8f70-0dcc3444f255",
   "metadata": {},
   "outputs": [],
   "source": [
    "state_preparation_measure = state_preparation.measure_all(inplace=False)\n",
    "sampler = Sampler()\n",
    "job = sampler.run(state_preparation_measure)\n",
    "binary_probabilities = job.result().quasi_dists[0].binary_probabilities()"
   ]
  },
  {
   "cell_type": "code",
   "execution_count": 15,
   "id": "a5e4a548-246f-495f-a456-92953d4123f0",
   "metadata": {},
   "outputs": [
    {
     "name": "stdout",
     "output_type": "stream",
     "text": [
      "Exact Expected Loss:   2.2461\n",
      "Exact Operator Value:  0.3105\n",
      "Mapped Operator value: 3.5123\n"
     ]
    }
   ],
   "source": [
    "# evaluate the result\n",
    "value = 0\n",
    "for i, prob in binary_probabilities.items():\n",
    "    if prob > 1e-6 and i[-(len(qr_state) + 1) :][0] == \"1\":\n",
    "        value += prob\n",
    "\n",
    "print(\"Exact Expected Loss:   %.4f\" % expected_loss)\n",
    "print(\"Exact Operator Value:  %.4f\" % value)\n",
    "print(\"Mapped Operator value: %.4f\" % objective.post_processing(value))"
   ]
  },
  {
   "cell_type": "code",
   "execution_count": null,
   "id": "0bf9d3f9-0a8f-441b-9302-abf8b99a3ab5",
   "metadata": {},
   "outputs": [],
   "source": [
    "# set target precision and confidence level\n",
    "\n",
    "\n",
    "\n",
    "problem = EstimationProblem(\n",
    "    state_preparation=state_preparation,\n",
    "    objective_qubits=[len(qr_state)],\n",
    "    post_processing=objective.post_processing,\n",
    ")\n",
    "# construct amplitude estimation\n",
    "ae = IterativeAmplitudeEstimation(\n",
    "    epsilon_target=epsilon, alpha=alpha, sampler=Sampler(run_options={\"shots\": 100, \"seed\": 75})\n",
    ")\n",
    "result = ae.estimate(problem)\n",
    "\n",
    "# print results\n",
    "conf_int = np.array(result.confidence_interval_processed)\n",
    "print(\"Exact value:    \\t%.4f\" % expected_loss)\n",
    "print(\"Estimated value:\\t%.4f\" % result.estimation_processed)\n",
    "print(\"Confidence interval: \\t[%.4f, %.4f]\" % tuple(conf_int))"
   ]
  },
  {
   "cell_type": "markdown",
   "id": "9fe7d6bf-9660-4a91-add9-b8f786bcd6f8",
   "metadata": {},
   "source": [
    "# VaR推定を量子コンピュータで計算する方法\n",
    "ここまでで、損失の期待値を量子コンピュータ上で計算することが出来た。\n",
    "最後に、VaR推定を量子コンピュータ上で実行するコードを以下に示す。"
   ]
  },
  {
   "cell_type": "code",
   "execution_count": null,
   "id": "ba84cbcc-6459-4df2-97a0-2a358e383549",
   "metadata": {},
   "outputs": [],
   "source": [
    "# set x value to estimate the CDF\n",
    "x_eval = 10\n",
    "\n",
    "comparator = IntegerComparator(agg.num_sum_qubits, x_eval + 1, geq=False)\n",
    "comparator.draw()"
   ]
  },
  {
   "cell_type": "code",
   "execution_count": null,
   "id": "f3d4431e-437e-460b-9589-df583a6f7c55",
   "metadata": {},
   "outputs": [],
   "source": [
    "def get_cdf_circuit(x_eval):\n",
    "    # define the registers for convenience and readability\n",
    "    qr_state = QuantumRegister(u.num_qubits, \"state\")\n",
    "    qr_sum = QuantumRegister(agg.num_sum_qubits, \"sum\")\n",
    "    qr_carry = QuantumRegister(agg.num_carry_qubits+1, \"carry\")\n",
    "    qr_obj = QuantumRegister(1, \"objective\")\n",
    "    qr_compare = QuantumRegister(1, \"compare\")\n",
    "\n",
    "    # define the circuit\n",
    "    state_preparation = QuantumCircuit(qr_state, qr_obj, qr_sum, qr_carry, name=\"A\")\n",
    "\n",
    "    # load the random variable\n",
    "    state_preparation.append(u, qr_state)\n",
    "\n",
    "    # aggregate\n",
    "    state_preparation.append(agg, qr_state[:] + qr_sum[:] + qr_carry[:])\n",
    "\n",
    "    # comparator objective function\n",
    "    comparator = IntegerComparator(agg.num_sum_qubits, x_eval + 1, geq=False)\n",
    "    state_preparation.append(comparator, qr_sum[:] + qr_obj[:] + qr_carry[:-1])\n",
    "\n",
    "    # uncompute aggregation\n",
    "    state_preparation.append(agg.inverse(), qr_state[:] + qr_sum[:] + qr_carry[:])\n",
    "\n",
    "    return state_preparation\n",
    "\n",
    "\n",
    "state_preparation = get_cdf_circuit(x_eval)"
   ]
  },
  {
   "cell_type": "code",
   "execution_count": null,
   "id": "65c09cff-d670-42ca-9cbf-7244e1c9af97",
   "metadata": {},
   "outputs": [],
   "source": [
    "state_preparation.draw()"
   ]
  },
  {
   "cell_type": "code",
   "execution_count": null,
   "id": "b11dc63a-32f9-488d-aa2b-fcb4945fe835",
   "metadata": {},
   "outputs": [],
   "source": [
    "state_preparation_measure = state_preparation.measure_all(inplace=False)\n",
    "sampler = Sampler()\n",
    "job = sampler.run(state_preparation_measure)\n",
    "binary_probabilities = job.result().quasi_dists[0].binary_probabilities()"
   ]
  },
  {
   "cell_type": "code",
   "execution_count": null,
   "id": "11ea0922-3817-4912-9d7a-7436be90294e",
   "metadata": {},
   "outputs": [],
   "source": [
    "# evaluate the result\n",
    "var_prob = 0\n",
    "for i, prob in binary_probabilities.items():\n",
    "    if prob > 1e-6 and i[-(len(qr_state) + 1) :][0] == \"1\":\n",
    "        var_prob += prob\n",
    "\n",
    "print(\"Operator CDF(%s)\" % x_eval + \" = %.4f\" % var_prob)\n",
    "print(\"Exact    CDF(%s)\" % x_eval + \" = %.4f\" % cdf[1])"
   ]
  },
  {
   "cell_type": "code",
   "execution_count": null,
   "id": "407a54ef-6011-43e6-bef2-6bec28aa4266",
   "metadata": {},
   "outputs": [],
   "source": [
    "# set target precision and confidence level\n",
    "epsilon = 0.01\n",
    "\n",
    "problem = EstimationProblem(state_preparation=state_preparation, objective_qubits=[len(qr_state)])\n",
    "# construct amplitude estimation\n",
    "ae_cdf = IterativeAmplitudeEstimation(\n",
    "    epsilon_target=epsilon, alpha=alpha, sampler=Sampler(run_options={\"shots\": 100, \"seed\": 75})\n",
    ")\n",
    "result_cdf = ae_cdf.estimate(problem)\n",
    "\n",
    "# print results\n",
    "conf_int = np.array(result_cdf.confidence_interval)\n",
    "print(\"Exact value:    \\t%.4f\" % cdf[1])\n",
    "print(\"Estimated value:\\t%.4f\" % result_cdf.estimation)\n",
    "print(\"Confidence interval: \\t[%.4f, %.4f]\" % tuple(conf_int))\n"
   ]
  },
  {
   "cell_type": "code",
   "execution_count": null,
   "id": "b810498d-1add-488b-a038-3463617f35bb",
   "metadata": {},
   "outputs": [],
   "source": [
    "def run_ae_for_cdf(x_eval, epsilon=0.01, alpha=0.05):\n",
    "\n",
    "    # construct amplitude estimation\n",
    "    state_preparation = get_cdf_circuit(x_eval)\n",
    "    problem = EstimationProblem(\n",
    "        state_preparation=state_preparation, objective_qubits=[len(qr_state)]\n",
    "    )\n",
    "    ae_var = IterativeAmplitudeEstimation(\n",
    "        epsilon_target=epsilon, alpha=alpha, sampler=Sampler(run_options={\"shots\": 100, \"seed\": 75})\n",
    "    )\n",
    "    result_var = ae_var.estimate(problem)\n",
    "\n",
    "    return result_var.estimation"
   ]
  },
  {
   "cell_type": "code",
   "execution_count": null,
   "id": "60396113-45e3-4974-898c-0476a90ea75f",
   "metadata": {},
   "outputs": [],
   "source": [
    "def bisection_search(\n",
    "    objective, target_value, low_level, high_level, low_value=None, high_value=None\n",
    "):\n",
    "    \"\"\"\n",
    "    Determines the smallest level such that the objective value is still larger than the target\n",
    "    :param objective: objective function\n",
    "    :param target: target value\n",
    "    :param low_level: lowest level to be considered\n",
    "    :param high_level: highest level to be considered\n",
    "    :param low_value: value of lowest level (will be evaluated if set to None)\n",
    "    :param high_value: value of highest level (will be evaluated if set to None)\n",
    "    :return: dictionary with level, value, num_eval\n",
    "    \"\"\"\n",
    "\n",
    "    # check whether low and high values are given and evaluated them otherwise\n",
    "    print(\"--------------------------------------------------------------------\")\n",
    "    print(\"start bisection search for target value %.3f\" % target_value)\n",
    "    print(\"--------------------------------------------------------------------\")\n",
    "    num_eval = 0\n",
    "    if low_value is None:\n",
    "        low_value = objective(low_level)\n",
    "        num_eval += 1\n",
    "    if high_value is None:\n",
    "        high_value = objective(high_level)\n",
    "        num_eval += 1\n",
    "\n",
    "    # check if low_value already satisfies the condition\n",
    "    if low_value > target_value:\n",
    "        return {\n",
    "            \"level\": low_level,\n",
    "            \"value\": low_value,\n",
    "            \"num_eval\": num_eval,\n",
    "            \"comment\": \"returned low value\",\n",
    "        }\n",
    "    elif low_value == target_value:\n",
    "        return {\"level\": low_level, \"value\": low_value, \"num_eval\": num_eval, \"comment\": \"success\"}\n",
    "\n",
    "    # check if high_value is above target\n",
    "    if high_value < target_value:\n",
    "        return {\n",
    "            \"level\": high_level,\n",
    "            \"value\": high_value,\n",
    "            \"num_eval\": num_eval,\n",
    "            \"comment\": \"returned low value\",\n",
    "        }\n",
    "    elif high_value == target_value:\n",
    "        return {\n",
    "            \"level\": high_level,\n",
    "            \"value\": high_value,\n",
    "            \"num_eval\": num_eval,\n",
    "            \"comment\": \"success\",\n",
    "        }\n",
    "\n",
    "    # perform bisection search until\n",
    "    print(\"low_level    low_value    level    value    high_level    high_value\")\n",
    "    print(\"--------------------------------------------------------------------\")\n",
    "    while high_level - low_level > 1:\n",
    "\n",
    "        level = int(np.round((high_level + low_level) / 2.0))\n",
    "        num_eval += 1\n",
    "        value = objective(level)\n",
    "\n",
    "        print(\n",
    "            \"%2d           %.3f        %2d       %.3f    %2d            %.3f\"\n",
    "            % (low_level, low_value, level, value, high_level, high_value)\n",
    "        )\n",
    "\n",
    "        if value >= target_value:\n",
    "            high_level = level\n",
    "            high_value = value\n",
    "        else:\n",
    "            low_level = level\n",
    "            low_value = value\n",
    "\n",
    "    # return high value after bisection search\n",
    "    print(\"--------------------------------------------------------------------\")\n",
    "    print(\"finished bisection search\")\n",
    "    print(\"--------------------------------------------------------------------\")\n",
    "    return {\"level\": high_level, \"value\": high_value, \"num_eval\": num_eval, \"comment\": \"success\"}"
   ]
  },
  {
   "cell_type": "code",
   "execution_count": null,
   "id": "1f1d3fe9-5f17-4811-8dce-47935f2569d2",
   "metadata": {},
   "outputs": [],
   "source": [
    "# run bisection search to determine VaR\n",
    "objective = lambda x: run_ae_for_cdf(x)\n",
    "bisection_result = bisection_search(\n",
    "    objective, 1 - alpha, min(losses) - 1, max(losses), low_value=0, high_value=1\n",
    ")\n",
    "var = bisection_result[\"level\"]"
   ]
  },
  {
   "cell_type": "code",
   "execution_count": null,
   "id": "4d6ce762-2934-43c9-9ea9-d6de7a933c39",
   "metadata": {},
   "outputs": [],
   "source": [
    "print(\"Estimated Value at Risk: %2d\" % var)\n",
    "print(\"Exact Value at Risk:     %2d\" % exact_var)\n",
    "print(\"Estimated Probability:    %.3f\" % bisection_result[\"value\"])\n",
    "print(\"Exact Probability:        %.3f\" % cdf[1])"
   ]
  },
  {
   "cell_type": "code",
   "execution_count": null,
   "id": "b47c0d81-6407-474f-8f53-43b9b34b2de3",
   "metadata": {},
   "outputs": [],
   "source": []
  },
  {
   "cell_type": "code",
   "execution_count": null,
   "id": "2c654abb-7e47-42f3-b934-35591ecdbe72",
   "metadata": {},
   "outputs": [],
   "source": []
  }
 ],
 "metadata": {
  "kernelspec": {
   "display_name": "Python 3 (ipykernel)",
   "language": "python",
   "name": "python3"
  },
  "language_info": {
   "codemirror_mode": {
    "name": "ipython",
    "version": 3
   },
   "file_extension": ".py",
   "mimetype": "text/x-python",
   "name": "python",
   "nbconvert_exporter": "python",
   "pygments_lexer": "ipython3",
   "version": "3.9.18"
  }
 },
 "nbformat": 4,
 "nbformat_minor": 5
}
