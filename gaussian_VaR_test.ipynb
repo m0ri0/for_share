{
 "cells": [
  {
   "cell_type": "code",
   "execution_count": 1,
   "id": "4f438499-9d2d-458b-9d33-d87cfe530d4f",
   "metadata": {},
   "outputs": [],
   "source": [
    "import numpy as np\n",
    "import matplotlib.pyplot as plt\n",
    "\n",
    "from qiskit import QuantumRegister, QuantumCircuit, ClassicalRegister\n",
    "from qiskit.circuit.library import IntegerComparator\n",
    "from qiskit_algorithms import IterativeAmplitudeEstimation, EstimationProblem\n",
    "from qiskit_aer.primitives import Sampler\n",
    "from qiskit_finance.circuit.library import GaussianConditionalIndependenceModel as GCI\n",
    "import matplotlib.pyplot as plt\n",
    "\n",
    "import math"
   ]
  },
  {
   "cell_type": "markdown",
   "id": "a6e19499-60bd-4eb8-b551-e45307f7a763",
   "metadata": {},
   "source": [
    "# パラメータの設定"
   ]
  },
  {
   "cell_type": "code",
   "execution_count": 2,
   "id": "b81a2081-f956-477a-8009-f9960a96923a",
   "metadata": {},
   "outputs": [],
   "source": [
    "num = 4 #株の数（もしくは変動日数）\n",
    "theta = math.pi/2 #株の上下変動のしやすさ"
   ]
  },
  {
   "cell_type": "markdown",
   "id": "7db5f10b-e9f1-4c9c-8e41-cc096286e12c",
   "metadata": {},
   "source": [
    "# 元となる量子状態"
   ]
  },
  {
   "cell_type": "code",
   "execution_count": 3,
   "id": "c1d71091-79cb-4a1a-8237-a3c3b6ef8c1d",
   "metadata": {},
   "outputs": [
    {
     "data": {
      "text/html": [
       "<pre style=\"word-wrap: normal;white-space: pre;background: #fff0;line-height: 1.1;font-family: &quot;Courier New&quot;,Courier,monospace\">     ┌─────────┐\n",
       "q_0: ┤ Ry(π/2) ├\n",
       "     ├─────────┤\n",
       "q_1: ┤ Ry(π/2) ├\n",
       "     ├─────────┤\n",
       "q_2: ┤ Ry(π/2) ├\n",
       "     ├─────────┤\n",
       "q_3: ┤ Ry(π/2) ├\n",
       "     └─────────┘</pre>"
      ],
      "text/plain": [
       "     ┌─────────┐\n",
       "q_0: ┤ Ry(π/2) ├\n",
       "     ├─────────┤\n",
       "q_1: ┤ Ry(π/2) ├\n",
       "     ├─────────┤\n",
       "q_2: ┤ Ry(π/2) ├\n",
       "     ├─────────┤\n",
       "q_3: ┤ Ry(π/2) ├\n",
       "     └─────────┘"
      ]
     },
     "execution_count": 3,
     "metadata": {},
     "output_type": "execute_result"
    }
   ],
   "source": [
    "qc = QuantumCircuit(num)\n",
    "\n",
    "for i in range(num):\n",
    "    qc.ry(theta,i)\n",
    "\n",
    "qc.draw()"
   ]
  },
  {
   "cell_type": "code",
   "execution_count": 4,
   "id": "7a70cad8-ba9e-4e54-a084-b21c4251d7a9",
   "metadata": {},
   "outputs": [],
   "source": [
    "qc_measure = qc.measure_all(inplace=False)\n",
    "\n",
    "sampler = Sampler()\n",
    "job = sampler.run(qc_measure)\n",
    "binary_probabilities = job.result().quasi_dists[0].binary_probabilities()"
   ]
  },
  {
   "cell_type": "code",
   "execution_count": 5,
   "id": "6cf7dda7-07cc-4c95-9faa-860f00b2e3ae",
   "metadata": {},
   "outputs": [
    {
     "name": "stdout",
     "output_type": "stream",
     "text": [
      "1010 0.0634765625\n",
      "0101 0.0634765625\n",
      "0110 0.0634765625\n",
      "1011 0.0673828125\n",
      "1100 0.0576171875\n",
      "0100 0.0537109375\n",
      "1001 0.076171875\n",
      "1111 0.048828125\n",
      "1101 0.0712890625\n",
      "1000 0.0537109375\n",
      "1110 0.060546875\n",
      "0001 0.05859375\n",
      "0011 0.064453125\n",
      "0111 0.0751953125\n",
      "0010 0.060546875\n",
      "0000 0.0615234375\n"
     ]
    }
   ],
   "source": [
    "qubit_state = []\n",
    "\n",
    "for i, prob in binary_probabilities.items():\n",
    "    print(i,prob)\n",
    "    qubit_state.append([i,prob])\n",
    "\n",
    "qubit_state.sort()"
   ]
  },
  {
   "cell_type": "code",
   "execution_count": 6,
   "id": "2a616ffb-207f-4bdd-a879-a51b8fc7d22f",
   "metadata": {},
   "outputs": [
    {
     "data": {
      "image/png": "[encoded data removed]",
      "text/plain": [
       "<Figure size 640x480 with 1 Axes>"
      ]
     },
     "metadata": {},
     "output_type": "display_data"
    }
   ],
   "source": [
    "# plot probabilities of each states\n",
    "q_state = []\n",
    "q_prob = []\n",
    "for state in qubit_state:\n",
    "    q_state.append(state[0])\n",
    "    q_prob.append(state[1])\n",
    "\n",
    "plt.bar(q_state,q_prob)\n",
    "#plt.legend(fontsize=15)\n",
    "plt.xlabel(\"state\", size=10)\n",
    "plt.ylabel(\"probability (%)\", size=10)\n",
    "plt.title(\"Qubit State\", size=20)\n",
    "plt.xticks(size=10,rotation=45)\n",
    "plt.yticks(size=10)\n",
    "plt.show()"
   ]
  },
  {
   "cell_type": "markdown",
   "id": "0723e693-3f65-4cf4-9f49-c2fdc145e3a4",
   "metadata": {},
   "source": [
    "# 変動分の足し合わせ"
   ]
  },
  {
   "cell_type": "code",
   "execution_count": 15,
   "id": "08e5fc24-8e73-49ab-aa72-0790030183e5",
   "metadata": {},
   "outputs": [
    {
     "data": {
      "text/html": [
       "<pre style=\"word-wrap: normal;white-space: pre;background: #fff0;line-height: 1.1;font-family: &quot;Courier New&quot;,Courier,monospace\">         ┌──────────────┐┌────────┐         \n",
       "state_0: ┤0             ├┤0       ├─────────\n",
       "         │              ││        │         \n",
       "state_1: ┤1             ├┤1       ├─────────\n",
       "         │  circuit-158 ││        │         \n",
       "state_2: ┤2             ├┤2       ├─────────\n",
       "         │              ││        │         \n",
       "state_3: ┤3             ├┤3       ├─────────\n",
       "         └──────────────┘│        │┌─┐      \n",
       "  sum_0: ────────────────┤4       ├┤M├──────\n",
       "                         │  adder │└╥┘┌─┐   \n",
       "  sum_1: ────────────────┤5       ├─╫─┤M├───\n",
       "                         │        │ ║ └╥┘┌─┐\n",
       "  sum_2: ────────────────┤6       ├─╫──╫─┤M├\n",
       "                         │        │ ║  ║ └╥┘\n",
       "carry_0: ────────────────┤7       ├─╫──╫──╫─\n",
       "                         │        │ ║  ║  ║ \n",
       "carry_1: ────────────────┤8       ├─╫──╫──╫─\n",
       "                         │        │ ║  ║  ║ \n",
       "carry_2: ────────────────┤9       ├─╫──╫──╫─\n",
       "                         └────────┘ ║  ║  ║ \n",
       "value: 3/═══════════════════════════╩══╩══╩═\n",
       "                                    0  1  2 </pre>"
      ],
      "text/plain": [
       "         ┌──────────────┐┌────────┐         \n",
       "state_0: ┤0             ├┤0       ├─────────\n",
       "         │              ││        │         \n",
       "state_1: ┤1             ├┤1       ├─────────\n",
       "         │  circuit-158 ││        │         \n",
       "state_2: ┤2             ├┤2       ├─────────\n",
       "         │              ││        │         \n",
       "state_3: ┤3             ├┤3       ├─────────\n",
       "         └──────────────┘│        │┌─┐      \n",
       "  sum_0: ────────────────┤4       ├┤M├──────\n",
       "                         │  adder │└╥┘┌─┐   \n",
       "  sum_1: ────────────────┤5       ├─╫─┤M├───\n",
       "                         │        │ ║ └╥┘┌─┐\n",
       "  sum_2: ────────────────┤6       ├─╫──╫─┤M├\n",
       "                         │        │ ║  ║ └╥┘\n",
       "carry_0: ────────────────┤7       ├─╫──╫──╫─\n",
       "                         │        │ ║  ║  ║ \n",
       "carry_1: ────────────────┤8       ├─╫──╫──╫─\n",
       "                         │        │ ║  ║  ║ \n",
       "carry_2: ────────────────┤9       ├─╫──╫──╫─\n",
       "                         └────────┘ ║  ║  ║ \n",
       "value: 3/═══════════════════════════╩══╩══╩═\n",
       "                                    0  1  2 "
      ]
     },
     "execution_count": 15,
     "metadata": {},
     "output_type": "execute_result"
    }
   ],
   "source": [
    "from qiskit.circuit.library import WeightedAdder\n",
    "from qiskit.circuit.library import LinearAmplitudeFunction\n",
    "\n",
    "agg = WeightedAdder(num, [1] * num)\n",
    "\n",
    "qr_state = QuantumRegister(qc.num_qubits, \"state\")\n",
    "qr_sum = QuantumRegister(agg.num_sum_qubits, \"sum\")\n",
    "qr_carry = QuantumRegister(agg.num_carry_qubits+1, \"carry\")\n",
    "cr = ClassicalRegister(agg.num_sum_qubits, \"value\")\n",
    "\n",
    "L_sum_state = QuantumCircuit(qr_state, qr_sum, qr_carry, cr)\n",
    "\n",
    "# load the variable\n",
    "L_sum_state.append(qc.to_gate(), qr_state)\n",
    "\n",
    "# aggregate\n",
    "L_sum_state.append(agg.to_gate(), qr_state[:] + qr_sum[:] + qr_carry[:])\n",
    "\n",
    "L_sum_state.measure(qr_sum[:],cr[:])\n",
    "\n",
    "L_sum_state.draw()"
   ]
  },
  {
   "cell_type": "code",
   "execution_count": 16,
   "id": "6e091efc-336b-4d82-b1c9-8dcd8374fa53",
   "metadata": {},
   "outputs": [],
   "source": [
    "sampler = Sampler()\n",
    "job = sampler.run(L_sum_state)\n",
    "binary_probabilities = job.result().quasi_dists[0].binary_probabilities()"
   ]
  },
  {
   "cell_type": "code",
   "execution_count": 17,
   "id": "f722bd43-2f51-4323-a8b2-6eee9c440b13",
   "metadata": {},
   "outputs": [
    {
     "name": "stdout",
     "output_type": "stream",
     "text": [
      "100 0.0537109375\n",
      "001 0.25390625\n",
      "011 0.271484375\n",
      "000 0.0634765625\n",
      "010 0.357421875\n"
     ]
    }
   ],
   "source": [
    "qubit_state_L = []\n",
    "\n",
    "for i, prob in binary_probabilities.items():\n",
    "    print(i,prob)\n",
    "    qubit_state_L.append([i,prob])\n",
    "\n",
    "qubit_state_L.sort()"
   ]
  },
  {
   "cell_type": "code",
   "execution_count": 18,
   "id": "947f1686-0c9e-435b-9fa3-e42ace1ca905",
   "metadata": {},
   "outputs": [
    {
     "data": {
      "image/png": "[encoded data removed]",
      "text/plain": [
       "<Figure size 640x480 with 1 Axes>"
      ]
     },
     "metadata": {},
     "output_type": "display_data"
    }
   ],
   "source": [
    "# plot probabilities of each states\n",
    "q_state_L = []\n",
    "q_prob_L = []\n",
    "for state in qubit_state_L:\n",
    "    q_state_L.append(state[0])\n",
    "    q_prob_L.append(state[1])\n",
    "\n",
    "plt.bar(q_state_L,q_prob_L)\n",
    "#plt.legend(fontsize=15)\n",
    "plt.xlabel(\"state\", size=10)\n",
    "plt.ylabel(\"probability (%)\", size=10)\n",
    "plt.title(\"Qubit State\", size=20)\n",
    "plt.xticks(size=10,rotation=45)\n",
    "plt.yticks(size=10)\n",
    "plt.show()"
   ]
  },
  {
   "cell_type": "markdown",
   "id": "1c4a39b4-b66f-4220-bfc5-3142d41fb487",
   "metadata": {},
   "source": [
    "# 量子位相推定によるLの推定"
   ]
  },
  {
   "cell_type": "code",
   "execution_count": 11,
   "id": "4f286aa3-e565-4ac0-8050-2bd6edf0b2ae",
   "metadata": {},
   "outputs": [],
   "source": [
    "# define linear objective function\n",
    "breakpoints = [0]\n",
    "slopes = [1]\n",
    "offsets = [0]\n",
    "f_min = 0\n",
    "f_max = sum([1]*num)\n",
    "c_approx = 0.25\n",
    "\n",
    "objective = LinearAmplitudeFunction(\n",
    "    agg.num_sum_qubits,\n",
    "    slope=slopes,\n",
    "    offset=offsets,\n",
    "    # max value that can be reached by the qubit register (will not always be reached)\n",
    "    domain=(0, 2**agg.num_sum_qubits - 1),\n",
    "    image=(f_min, f_max),\n",
    "    rescaling_factor=c_approx,\n",
    "    breakpoints=breakpoints,\n",
    ")"
   ]
  },
  {
   "cell_type": "code",
   "execution_count": 12,
   "id": "f27c0e50-d052-46d6-a621-493d18fe2ee7",
   "metadata": {},
   "outputs": [
    {
     "data": {
      "text/html": [
       "<pre style=\"word-wrap: normal;white-space: pre;background: #fff0;line-height: 1.1;font-family: &quot;Courier New&quot;,Courier,monospace\">           ┌──────────────┐┌────────┐      ┌───────────┐\n",
       "  state_0: ┤0             ├┤0       ├──────┤0          ├\n",
       "           │              ││        │      │           │\n",
       "  state_1: ┤1             ├┤1       ├──────┤1          ├\n",
       "           │  circuit-158 ││        │      │           │\n",
       "  state_2: ┤2             ├┤2       ├──────┤2          ├\n",
       "           │              ││        │      │           │\n",
       "  state_3: ┤3             ├┤3       ├──────┤3          ├\n",
       "           └──────────────┘│        │┌────┐│           │\n",
       "objective: ────────────────┤        ├┤3   ├┤           ├\n",
       "                           │        ││    ││           │\n",
       "    sum_0: ────────────────┤4 adder ├┤0   ├┤4 adder_dg ├\n",
       "                           │        ││  F ││           │\n",
       "    sum_1: ────────────────┤5       ├┤1   ├┤5          ├\n",
       "                           │        ││    ││           │\n",
       "    sum_2: ────────────────┤6       ├┤2   ├┤6          ├\n",
       "                           │        │└────┘│           │\n",
       "  carry_0: ────────────────┤7       ├──────┤7          ├\n",
       "                           │        │      │           │\n",
       "  carry_1: ────────────────┤8       ├──────┤8          ├\n",
       "                           │        │      │           │\n",
       "  carry_2: ────────────────┤9       ├──────┤9          ├\n",
       "                           └────────┘      └───────────┘</pre>"
      ],
      "text/plain": [
       "           ┌──────────────┐┌────────┐      ┌───────────┐\n",
       "  state_0: ┤0             ├┤0       ├──────┤0          ├\n",
       "           │              ││        │      │           │\n",
       "  state_1: ┤1             ├┤1       ├──────┤1          ├\n",
       "           │  circuit-158 ││        │      │           │\n",
       "  state_2: ┤2             ├┤2       ├──────┤2          ├\n",
       "           │              ││        │      │           │\n",
       "  state_3: ┤3             ├┤3       ├──────┤3          ├\n",
       "           └──────────────┘│        │┌────┐│           │\n",
       "objective: ────────────────┤        ├┤3   ├┤           ├\n",
       "                           │        ││    ││           │\n",
       "    sum_0: ────────────────┤4 adder ├┤0   ├┤4 adder_dg ├\n",
       "                           │        ││  F ││           │\n",
       "    sum_1: ────────────────┤5       ├┤1   ├┤5          ├\n",
       "                           │        ││    ││           │\n",
       "    sum_2: ────────────────┤6       ├┤2   ├┤6          ├\n",
       "                           │        │└────┘│           │\n",
       "  carry_0: ────────────────┤7       ├──────┤7          ├\n",
       "                           │        │      │           │\n",
       "  carry_1: ────────────────┤8       ├──────┤8          ├\n",
       "                           │        │      │           │\n",
       "  carry_2: ────────────────┤9       ├──────┤9          ├\n",
       "                           └────────┘      └───────────┘"
      ]
     },
     "execution_count": 12,
     "metadata": {},
     "output_type": "execute_result"
    }
   ],
   "source": [
    "# define the registers for convenience and readability\n",
    "qr_state = QuantumRegister(qc.num_qubits, \"state\")\n",
    "qr_sum = QuantumRegister(agg.num_sum_qubits, \"sum\")\n",
    "qr_carry = QuantumRegister(agg.num_carry_qubits+1, \"carry\")\n",
    "qr_obj = QuantumRegister(1, \"objective\")\n",
    "\n",
    "# define the circuit\n",
    "state_preparation = QuantumCircuit(qr_state, qr_obj, qr_sum, qr_carry, name=\"A\")\n",
    "\n",
    "# load the random variable\n",
    "state_preparation.append(qc.to_gate(), qr_state)\n",
    "\n",
    "# aggregate\n",
    "state_preparation.append(agg.to_gate(), qr_state[:] + qr_sum[:] + qr_carry[:])\n",
    "\n",
    "# linear objective function\n",
    "state_preparation.append(objective.to_gate(), qr_sum[:] + qr_obj[:])\n",
    "\n",
    "# uncompute aggregation\n",
    "state_preparation.append(agg.to_gate().inverse(), qr_state[:] + qr_sum[:] + qr_carry[:])\n",
    "\n",
    "# draw the circuit\n",
    "state_preparation.draw()"
   ]
  },
  {
   "cell_type": "code",
   "execution_count": 13,
   "id": "14e45881-40eb-4fab-8716-23b0ba0fcf04",
   "metadata": {},
   "outputs": [],
   "source": [
    "epsilon = 0.01\n",
    "alpha = 0.1\n",
    "\n",
    "problem = EstimationProblem(\n",
    "    state_preparation=state_preparation,\n",
    "    objective_qubits=[len(qr_state)],\n",
    "    post_processing=objective.post_processing,\n",
    ")\n",
    "# construct amplitude estimation\n",
    "ae = IterativeAmplitudeEstimation(\n",
    "    epsilon_target=epsilon, alpha=alpha, sampler=Sampler(run_options={\"shots\": 100, \"seed\": 75})\n",
    ")\n",
    "result = ae.estimate(problem)"
   ]
  },
  {
   "cell_type": "code",
   "execution_count": 14,
   "id": "2624a556-aea7-48e4-ae44-374a27c22e99",
   "metadata": {},
   "outputs": [
    {
     "name": "stdout",
     "output_type": "stream",
     "text": [
      "2.01343163913194\n"
     ]
    }
   ],
   "source": [
    "print(result.estimation_processed)"
   ]
  },
  {
   "cell_type": "markdown",
   "id": "3df825ee-7934-43a2-8c9b-cfd04379e5b1",
   "metadata": {},
   "source": [
    "# 量子位相推定によるVaR推定"
   ]
  },
  {
   "cell_type": "code",
   "execution_count": 19,
   "id": "263e243c-1ab6-4f03-a60b-aa6e514e8f8d",
   "metadata": {},
   "outputs": [
    {
     "data": {
      "text/html": [
       "<pre style=\"word-wrap: normal;white-space: pre;background: #fff0;line-height: 1.1;font-family: &quot;Courier New&quot;,Courier,monospace\">         ┌──────┐\n",
       "state_0: ┤0     ├\n",
       "         │      │\n",
       "state_1: ┤1     ├\n",
       "         │      │\n",
       "state_2: ┤2     ├\n",
       "         │  cmp │\n",
       "compare: ┤3     ├\n",
       "         │      │\n",
       "  a21_0: ┤4     ├\n",
       "         │      │\n",
       "  a21_1: ┤5     ├\n",
       "         └──────┘</pre>"
      ],
      "text/plain": [
       "         ┌──────┐\n",
       "state_0: ┤0     ├\n",
       "         │      │\n",
       "state_1: ┤1     ├\n",
       "         │      │\n",
       "state_2: ┤2     ├\n",
       "         │  cmp │\n",
       "compare: ┤3     ├\n",
       "         │      │\n",
       "  a21_0: ┤4     ├\n",
       "         │      │\n",
       "  a21_1: ┤5     ├\n",
       "         └──────┘"
      ]
     },
     "execution_count": 19,
     "metadata": {},
     "output_type": "execute_result"
    }
   ],
   "source": [
    "# set x value to estimate the CDF\n",
    "x_eval = 1\n",
    "\n",
    "comparator = IntegerComparator(agg.num_sum_qubits, x_eval + 1, geq=False)\n",
    "comparator.draw()"
   ]
  },
  {
   "cell_type": "code",
   "execution_count": 21,
   "id": "0ba11a99-41a8-458e-8536-f0932f9a83b7",
   "metadata": {},
   "outputs": [
    {
     "data": {
      "text/html": [
       "<pre style=\"word-wrap: normal;white-space: pre;background: #fff0;line-height: 1.1;font-family: &quot;Courier New&quot;,Courier,monospace\">           ┌──────────────┐┌────────┐        ┌───────────┐\n",
       "  state_0: ┤0             ├┤0       ├────────┤0          ├\n",
       "           │              ││        │        │           │\n",
       "  state_1: ┤1             ├┤1       ├────────┤1          ├\n",
       "           │  circuit-158 ││        │        │           │\n",
       "  state_2: ┤2             ├┤2       ├────────┤2          ├\n",
       "           │              ││        │        │           │\n",
       "  state_3: ┤3             ├┤3       ├────────┤3          ├\n",
       "           └──────────────┘│        │┌──────┐│           │\n",
       "objective: ────────────────┤        ├┤3     ├┤           ├\n",
       "                           │        ││      ││           │\n",
       "    sum_0: ────────────────┤4 adder ├┤0     ├┤4 adder_dg ├\n",
       "                           │        ││      ││           │\n",
       "    sum_1: ────────────────┤5       ├┤1     ├┤5          ├\n",
       "                           │        ││  cmp ││           │\n",
       "    sum_2: ────────────────┤6       ├┤2     ├┤6          ├\n",
       "                           │        ││      ││           │\n",
       "  carry_0: ────────────────┤7       ├┤4     ├┤7          ├\n",
       "                           │        ││      ││           │\n",
       "  carry_1: ────────────────┤8       ├┤5     ├┤8          ├\n",
       "                           │        │└──────┘│           │\n",
       "  carry_2: ────────────────┤9       ├────────┤9          ├\n",
       "                           └────────┘        └───────────┘</pre>"
      ],
      "text/plain": [
       "           ┌──────────────┐┌────────┐        ┌───────────┐\n",
       "  state_0: ┤0             ├┤0       ├────────┤0          ├\n",
       "           │              ││        │        │           │\n",
       "  state_1: ┤1             ├┤1       ├────────┤1          ├\n",
       "           │  circuit-158 ││        │        │           │\n",
       "  state_2: ┤2             ├┤2       ├────────┤2          ├\n",
       "           │              ││        │        │           │\n",
       "  state_3: ┤3             ├┤3       ├────────┤3          ├\n",
       "           └──────────────┘│        │┌──────┐│           │\n",
       "objective: ────────────────┤        ├┤3     ├┤           ├\n",
       "                           │        ││      ││           │\n",
       "    sum_0: ────────────────┤4 adder ├┤0     ├┤4 adder_dg ├\n",
       "                           │        ││      ││           │\n",
       "    sum_1: ────────────────┤5       ├┤1     ├┤5          ├\n",
       "                           │        ││  cmp ││           │\n",
       "    sum_2: ────────────────┤6       ├┤2     ├┤6          ├\n",
       "                           │        ││      ││           │\n",
       "  carry_0: ────────────────┤7       ├┤4     ├┤7          ├\n",
       "                           │        ││      ││           │\n",
       "  carry_1: ────────────────┤8       ├┤5     ├┤8          ├\n",
       "                           │        │└──────┘│           │\n",
       "  carry_2: ────────────────┤9       ├────────┤9          ├\n",
       "                           └────────┘        └───────────┘"
      ]
     },
     "execution_count": 21,
     "metadata": {},
     "output_type": "execute_result"
    }
   ],
   "source": [
    "def get_cdf_circuit(x_eval):\n",
    "    # define the registers for convenience and readability\n",
    "    qr_state = QuantumRegister(qc.num_qubits, \"state\")\n",
    "    qr_sum = QuantumRegister(agg.num_sum_qubits, \"sum\")\n",
    "    qr_carry = QuantumRegister(agg.num_carry_qubits+1, \"carry\")\n",
    "    qr_obj = QuantumRegister(1, \"objective\")\n",
    "    qr_compare = QuantumRegister(1, \"compare\")\n",
    "\n",
    "    # define the circuit\n",
    "    state_preparation = QuantumCircuit(qr_state, qr_obj, qr_sum, qr_carry, name=\"A\")\n",
    "\n",
    "    # load the random variable\n",
    "    state_preparation.append(qc, qr_state)\n",
    "\n",
    "    # aggregate\n",
    "    state_preparation.append(agg, qr_state[:] + qr_sum[:] + qr_carry[:])\n",
    "\n",
    "    # comparator objective function\n",
    "    comparator = IntegerComparator(agg.num_sum_qubits, x_eval + 1, geq=False)\n",
    "    state_preparation.append(comparator, qr_sum[:] + qr_obj[:] + qr_carry[:-1])\n",
    "\n",
    "    # uncompute aggregation\n",
    "    state_preparation.append(agg.inverse(), qr_state[:] + qr_sum[:] + qr_carry[:])\n",
    "\n",
    "    return state_preparation\n",
    "\n",
    "\n",
    "state_preparation = get_cdf_circuit(x_eval)\n",
    "state_preparation.draw()"
   ]
  },
  {
   "cell_type": "code",
   "execution_count": 22,
   "id": "5410b978-5f4d-4f65-80f0-a84bf44a4911",
   "metadata": {},
   "outputs": [],
   "source": [
    "# set target precision and confidence level\n",
    "epsilon = 0.01\n",
    "\n",
    "problem = EstimationProblem(state_preparation=state_preparation, objective_qubits=[len(qr_state)])\n",
    "# construct amplitude estimation\n",
    "ae_cdf = IterativeAmplitudeEstimation(\n",
    "    epsilon_target=epsilon, alpha=alpha, sampler=Sampler(run_options={\"shots\": 100, \"seed\": 75})\n",
    ")\n",
    "result_cdf = ae_cdf.estimate(problem)"
   ]
  },
  {
   "cell_type": "code",
   "execution_count": 23,
   "id": "c28b1a29-1cb8-41e9-bcbe-696f580a2a81",
   "metadata": {},
   "outputs": [],
   "source": [
    "def run_ae_for_cdf(x_eval, epsilon=0.01, alpha=0.05):\n",
    "\n",
    "    # construct amplitude estimation\n",
    "    state_preparation = get_cdf_circuit(x_eval)\n",
    "    problem = EstimationProblem(\n",
    "        state_preparation=state_preparation, objective_qubits=[len(qr_state)]\n",
    "    )\n",
    "    ae_var = IterativeAmplitudeEstimation(\n",
    "        epsilon_target=epsilon, alpha=alpha, sampler=Sampler(run_options={\"shots\": 100, \"seed\": 75})\n",
    "    )\n",
    "    result_var = ae_var.estimate(problem)\n",
    "\n",
    "    return result_var.estimation"
   ]
  },
  {
   "cell_type": "code",
   "execution_count": 24,
   "id": "5cbc89dc-28d6-42df-9f5b-4dccdcf885d0",
   "metadata": {},
   "outputs": [],
   "source": [
    "def bisection_search(\n",
    "    objective, target_value, low_level, high_level, low_value=None, high_value=None\n",
    "):\n",
    "    \"\"\"\n",
    "    Determines the smallest level such that the objective value is still larger than the target\n",
    "    :param objective: objective function\n",
    "    :param target: target value\n",
    "    :param low_level: lowest level to be considered\n",
    "    :param high_level: highest level to be considered\n",
    "    :param low_value: value of lowest level (will be evaluated if set to None)\n",
    "    :param high_value: value of highest level (will be evaluated if set to None)\n",
    "    :return: dictionary with level, value, num_eval\n",
    "    \"\"\"\n",
    "\n",
    "    # check whether low and high values are given and evaluated them otherwise\n",
    "    print(\"--------------------------------------------------------------------\")\n",
    "    print(\"start bisection search for target value %.3f\" % target_value)\n",
    "    print(\"--------------------------------------------------------------------\")\n",
    "    num_eval = 0\n",
    "    if low_value is None:\n",
    "        low_value = objective(low_level)\n",
    "        num_eval += 1\n",
    "    if high_value is None:\n",
    "        high_value = objective(high_level)\n",
    "        num_eval += 1\n",
    "\n",
    "    # check if low_value already satisfies the condition\n",
    "    if low_value > target_value:\n",
    "        return {\n",
    "            \"level\": low_level,\n",
    "            \"value\": low_value,\n",
    "            \"num_eval\": num_eval,\n",
    "            \"comment\": \"returned low value\",\n",
    "        }\n",
    "    elif low_value == target_value:\n",
    "        return {\"level\": low_level, \"value\": low_value, \"num_eval\": num_eval, \"comment\": \"success\"}\n",
    "\n",
    "    # check if high_value is above target\n",
    "    if high_value < target_value:\n",
    "        return {\n",
    "            \"level\": high_level,\n",
    "            \"value\": high_value,\n",
    "            \"num_eval\": num_eval,\n",
    "            \"comment\": \"returned low value\",\n",
    "        }\n",
    "    elif high_value == target_value:\n",
    "        return {\n",
    "            \"level\": high_level,\n",
    "            \"value\": high_value,\n",
    "            \"num_eval\": num_eval,\n",
    "            \"comment\": \"success\",\n",
    "        }\n",
    "\n",
    "    # perform bisection search until\n",
    "    print(\"low_level    low_value    level    value    high_level    high_value\")\n",
    "    print(\"--------------------------------------------------------------------\")\n",
    "    while high_level - low_level > 1:\n",
    "\n",
    "        level = int(np.round((high_level + low_level) / 2.0))\n",
    "        num_eval += 1\n",
    "        value = objective(level)\n",
    "\n",
    "        print(\n",
    "            \"%2d           %.3f        %2d       %.3f    %2d            %.3f\"\n",
    "            % (low_level, low_value, level, value, high_level, high_value)\n",
    "        )\n",
    "\n",
    "        if value >= target_value:\n",
    "            high_level = level\n",
    "            high_value = value\n",
    "        else:\n",
    "            low_level = level\n",
    "            low_value = value\n",
    "\n",
    "    # return high value after bisection search\n",
    "    print(\"--------------------------------------------------------------------\")\n",
    "    print(\"finished bisection search\")\n",
    "    print(\"--------------------------------------------------------------------\")\n",
    "    return {\"level\": high_level, \"value\": high_value, \"num_eval\": num_eval, \"comment\": \"success\"}"
   ]
  },
  {
   "cell_type": "code",
   "execution_count": 27,
   "id": "968e34f9-57b1-40b1-b045-84958c64c2d9",
   "metadata": {},
   "outputs": [
    {
     "name": "stdout",
     "output_type": "stream",
     "text": [
      "--------------------------------------------------------------------\n",
      "start bisection search for target value 0.900\n",
      "--------------------------------------------------------------------\n",
      "low_level    low_value    level    value    high_level    high_value\n",
      "--------------------------------------------------------------------\n",
      " 0           0.000         2       0.686     5            1.000\n",
      " 2           0.686         4       1.000     5            1.000\n",
      " 2           0.686         3       0.937     4            1.000\n",
      "--------------------------------------------------------------------\n",
      "finished bisection search\n",
      "--------------------------------------------------------------------\n"
     ]
    }
   ],
   "source": [
    "losses = [0,5]\n",
    "\n",
    "# run bisection search to determine VaR\n",
    "objective = lambda x: run_ae_for_cdf(x)\n",
    "bisection_result = bisection_search(\n",
    "    objective, 1 - alpha, min(losses), max(losses), low_value=0, high_value=1\n",
    ")\n",
    "var = bisection_result[\"level\"]"
   ]
  },
  {
   "cell_type": "code",
   "execution_count": 28,
   "id": "982e8b4e-2c19-4724-9698-65837f93a597",
   "metadata": {},
   "outputs": [
    {
     "name": "stdout",
     "output_type": "stream",
     "text": [
      "Estimated Value at Risk:  3\n",
      "Estimated Probability:    0.937\n"
     ]
    }
   ],
   "source": [
    "print(\"Estimated Value at Risk: %2d\" % var)\n",
    "print(\"Estimated Probability:    %.3f\" % bisection_result[\"value\"])"
   ]
  }
 ],
 "metadata": {
  "kernelspec": {
   "display_name": "Python 3 (ipykernel)",
   "language": "python",
   "name": "python3"
  },
  "language_info": {
   "codemirror_mode": {
    "name": "ipython",
    "version": 3
   },
   "file_extension": ".py",
   "mimetype": "text/x-python",
   "name": "python",
   "nbconvert_exporter": "python",
   "pygments_lexer": "ipython3",
   "version": "3.9.18"
  }
 },
 "nbformat": 4,
 "nbformat_minor": 5
}
