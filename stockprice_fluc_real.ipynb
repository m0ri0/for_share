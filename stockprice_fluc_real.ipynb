{
 "cells": [
  {
   "cell_type": "code",
   "execution_count": 21,
   "id": "843a5707-e2dd-4f90-ba78-137a4a644d87",
   "metadata": {},
   "outputs": [],
   "source": [
    "from qiskit import IBMQ\n",
    "\n",
    "import numpy as np\n",
    "import matplotlib.pyplot as plt\n",
    "\n",
    "from qiskit import QuantumRegister, QuantumCircuit, ClassicalRegister\n",
    "from qiskit.circuit.library import IntegerComparator\n",
    "from qiskit_algorithms import IterativeAmplitudeEstimation, EstimationProblem\n",
    "from qiskit_aer.primitives import Sampler\n",
    "from qiskit_finance.circuit.library import GaussianConditionalIndependenceModel as GCI\n",
    "from qiskit.providers.ibmq import least_busy\n",
    "from qiskit import execute, Aer\n",
    "from qiskit.qasm import pi\n",
    "\n",
    "import math\n",
    "\n",
    "from qiskit.primitives import BackendSampler"
   ]
  },
  {
   "cell_type": "code",
   "execution_count": 22,
   "id": "1d0cc72c-40d1-4930-b069-84ec247c5a49",
   "metadata": {},
   "outputs": [
    {
     "name": "stderr",
     "output_type": "stream",
     "text": [
      "configrc.store_credentials:WARNING:2024-04-14 15:25:46,782: Credentials already present. Set overwrite=True to overwrite.\n"
     ]
    }
   ],
   "source": [
    "IBMQ.save_account('327d163f39d663b2ea92fdbd2ffcdfad071e02392bea2944dfee1679b8e14f734e3d9fbcc8d8b18c39990ec47458a2d25e43533a2f979b8c28bedb9e24eed525')"
   ]
  },
  {
   "cell_type": "code",
   "execution_count": 23,
   "id": "ccf6e583-ab7c-446d-9614-0163b48c8ed9",
   "metadata": {},
   "outputs": [
    {
     "name": "stderr",
     "output_type": "stream",
     "text": [
      "ibmqfactory.load_account:WARNING:2024-04-14 15:25:54,987: Credentials are already in use. The existing account in the session will be replaced.\n"
     ]
    },
    {
     "data": {
      "text/plain": [
       "[<IBMQSimulator('ibmq_qasm_simulator') from IBMQ(hub='ibm-q', group='open', project='main')>,\n",
       " <IBMQSimulator('simulator_statevector') from IBMQ(hub='ibm-q', group='open', project='main')>,\n",
       " <IBMQSimulator('simulator_mps') from IBMQ(hub='ibm-q', group='open', project='main')>,\n",
       " <IBMQSimulator('simulator_extended_stabilizer') from IBMQ(hub='ibm-q', group='open', project='main')>,\n",
       " <IBMQSimulator('simulator_stabilizer') from IBMQ(hub='ibm-q', group='open', project='main')>,\n",
       " <IBMQBackend('ibm_brisbane') from IBMQ(hub='ibm-q', group='open', project='main')>,\n",
       " <IBMQBackend('ibm_kyoto') from IBMQ(hub='ibm-q', group='open', project='main')>,\n",
       " <IBMQBackend('ibm_osaka') from IBMQ(hub='ibm-q', group='open', project='main')>]"
      ]
     },
     "execution_count": 23,
     "metadata": {},
     "output_type": "execute_result"
    }
   ],
   "source": [
    "# 自分のアカウント情報をloadする。（あらかじめ IBMQ.save_account を実行しておく必要がある. 複数のアカウントを使い分ける時はここで行う)\n",
    "provider = IBMQ.load_account()\n",
    "\n",
    "# 自分のアカウントで使用できるバックエンドを見る\n",
    "provider.backends()"
   ]
  },
  {
   "cell_type": "code",
   "execution_count": 24,
   "id": "0c04cec4-747d-456d-acb8-ec9cf1b5bc65",
   "metadata": {},
   "outputs": [
    {
     "name": "stdout",
     "output_type": "stream",
     "text": [
      "Least busy backend:  ibm_kyoto\n"
     ]
    }
   ],
   "source": [
    "backend_lb = least_busy(provider.backends(simulator=False, operational=True))\n",
    "print(\"Least busy backend: \", backend_lb)\n",
    "\n",
    "#least busyだったbackendを選ぶ\n",
    "backend_sim = backend_lb\n",
    "\n",
    "#量子回路qcを指定したバックエンド(backend_sim)で4096回実行する。\n",
    "#result = execute(qc, backend_sim, shots=4096).result()\n",
    "\n",
    "#結果を出力する。\n",
    "#print(result.get_counts(qc))"
   ]
  },
  {
   "cell_type": "code",
   "execution_count": 25,
   "id": "aaab4cb2-88bc-4478-8410-3807c09232ce",
   "metadata": {},
   "outputs": [],
   "source": [
    "num = 5 #株の数（もしくは変動日数）\n",
    "theta = math.pi/2 #株の上下変動のしやすさ"
   ]
  },
  {
   "cell_type": "code",
   "execution_count": 26,
   "id": "f53b94fc-d64c-4907-b27f-042caa59563a",
   "metadata": {},
   "outputs": [
    {
     "data": {
      "text/html": [
       "<pre style=\"word-wrap: normal;white-space: pre;background: #fff0;line-height: 1.1;font-family: &quot;Courier New&quot;,Courier,monospace\">     ┌─────────┐\n",
       "q_0: ┤ Ry(π/2) ├\n",
       "     ├─────────┤\n",
       "q_1: ┤ Ry(π/2) ├\n",
       "     ├─────────┤\n",
       "q_2: ┤ Ry(π/2) ├\n",
       "     ├─────────┤\n",
       "q_3: ┤ Ry(π/2) ├\n",
       "     ├─────────┤\n",
       "q_4: ┤ Ry(π/2) ├\n",
       "     └─────────┘</pre>"
      ],
      "text/plain": [
       "     ┌─────────┐\n",
       "q_0: ┤ Ry(π/2) ├\n",
       "     ├─────────┤\n",
       "q_1: ┤ Ry(π/2) ├\n",
       "     ├─────────┤\n",
       "q_2: ┤ Ry(π/2) ├\n",
       "     ├─────────┤\n",
       "q_3: ┤ Ry(π/2) ├\n",
       "     ├─────────┤\n",
       "q_4: ┤ Ry(π/2) ├\n",
       "     └─────────┘"
      ]
     },
     "execution_count": 26,
     "metadata": {},
     "output_type": "execute_result"
    }
   ],
   "source": [
    "qc = QuantumCircuit(num)\n",
    "\n",
    "for i in range(num):\n",
    "    qc.ry(theta,i)\n",
    "\n",
    "qc_measure = qc.measure_all(inplace=False)\n",
    "\n",
    "qc.draw()"
   ]
  },
  {
   "cell_type": "code",
   "execution_count": 27,
   "id": "4ae1d55d-d375-4c2a-9b48-40f01c8e8f73",
   "metadata": {},
   "outputs": [
    {
     "data": {
      "text/html": [
       "<pre style=\"word-wrap: normal;white-space: pre;background: #fff0;line-height: 1.1;font-family: &quot;Courier New&quot;,Courier,monospace\">         ┌──────────────┐┌─────────┐                  \n",
       "state_0: ┤0             ├┤0        ├──────────────────\n",
       "         │              ││         │                  \n",
       "state_1: ┤1             ├┤1        ├──────────────────\n",
       "         │              ││         │                  \n",
       "state_2: ┤2 circuit-196 ├┤2        ├──────────────────\n",
       "         │              ││         │                  \n",
       "state_3: ┤3             ├┤3        ├──────────────────\n",
       "         │              ││         │                  \n",
       "state_4: ┤4             ├┤4        ├──────────────────\n",
       "         └──────────────┘│         │┌─┐               \n",
       "  sum_0: ────────────────┤5        ├┤M├───────────────\n",
       "                         │         │└╥┘┌─┐            \n",
       "  sum_1: ────────────────┤6        ├─╫─┤M├────────────\n",
       "                         │         │ ║ └╥┘┌─┐         \n",
       "  sum_2: ────────────────┤7        ├─╫──╫─┤M├─────────\n",
       "                         │         │ ║  ║ └╥┘┌─┐      \n",
       "  sum_3: ────────────────┤8  adder ├─╫──╫──╫─┤M├──────\n",
       "                         │         │ ║  ║  ║ └╥┘┌─┐   \n",
       "  sum_4: ────────────────┤9        ├─╫──╫──╫──╫─┤M├───\n",
       "                         │         │ ║  ║  ║  ║ └╥┘┌─┐\n",
       "  sum_5: ────────────────┤10       ├─╫──╫──╫──╫──╫─┤M├\n",
       "                         │         │ ║  ║  ║  ║  ║ └╥┘\n",
       "carry_0: ────────────────┤11       ├─╫──╫──╫──╫──╫──╫─\n",
       "                         │         │ ║  ║  ║  ║  ║  ║ \n",
       "carry_1: ────────────────┤12       ├─╫──╫──╫──╫──╫──╫─\n",
       "                         │         │ ║  ║  ║  ║  ║  ║ \n",
       "carry_2: ────────────────┤13       ├─╫──╫──╫──╫──╫──╫─\n",
       "                         │         │ ║  ║  ║  ║  ║  ║ \n",
       "carry_3: ────────────────┤14       ├─╫──╫──╫──╫──╫──╫─\n",
       "                         │         │ ║  ║  ║  ║  ║  ║ \n",
       "carry_4: ────────────────┤15       ├─╫──╫──╫──╫──╫──╫─\n",
       "                         │         │ ║  ║  ║  ║  ║  ║ \n",
       "carry_5: ────────────────┤16       ├─╫──╫──╫──╫──╫──╫─\n",
       "                         └─────────┘ ║  ║  ║  ║  ║  ║ \n",
       "value: 6/════════════════════════════╩══╩══╩══╩══╩══╩═\n",
       "                                     0  1  2  3  4  5 </pre>"
      ],
      "text/plain": [
       "         ┌──────────────┐┌─────────┐                  \n",
       "state_0: ┤0             ├┤0        ├──────────────────\n",
       "         │              ││         │                  \n",
       "state_1: ┤1             ├┤1        ├──────────────────\n",
       "         │              ││         │                  \n",
       "state_2: ┤2 circuit-196 ├┤2        ├──────────────────\n",
       "         │              ││         │                  \n",
       "state_3: ┤3             ├┤3        ├──────────────────\n",
       "         │              ││         │                  \n",
       "state_4: ┤4             ├┤4        ├──────────────────\n",
       "         └──────────────┘│         │┌─┐               \n",
       "  sum_0: ────────────────┤5        ├┤M├───────────────\n",
       "                         │         │└╥┘┌─┐            \n",
       "  sum_1: ────────────────┤6        ├─╫─┤M├────────────\n",
       "                         │         │ ║ └╥┘┌─┐         \n",
       "  sum_2: ────────────────┤7        ├─╫──╫─┤M├─────────\n",
       "                         │         │ ║  ║ └╥┘┌─┐      \n",
       "  sum_3: ────────────────┤8  adder ├─╫──╫──╫─┤M├──────\n",
       "                         │         │ ║  ║  ║ └╥┘┌─┐   \n",
       "  sum_4: ────────────────┤9        ├─╫──╫──╫──╫─┤M├───\n",
       "                         │         │ ║  ║  ║  ║ └╥┘┌─┐\n",
       "  sum_5: ────────────────┤10       ├─╫──╫──╫──╫──╫─┤M├\n",
       "                         │         │ ║  ║  ║  ║  ║ └╥┘\n",
       "carry_0: ────────────────┤11       ├─╫──╫──╫──╫──╫──╫─\n",
       "                         │         │ ║  ║  ║  ║  ║  ║ \n",
       "carry_1: ────────────────┤12       ├─╫──╫──╫──╫──╫──╫─\n",
       "                         │         │ ║  ║  ║  ║  ║  ║ \n",
       "carry_2: ────────────────┤13       ├─╫──╫──╫──╫──╫──╫─\n",
       "                         │         │ ║  ║  ║  ║  ║  ║ \n",
       "carry_3: ────────────────┤14       ├─╫──╫──╫──╫──╫──╫─\n",
       "                         │         │ ║  ║  ║  ║  ║  ║ \n",
       "carry_4: ────────────────┤15       ├─╫──╫──╫──╫──╫──╫─\n",
       "                         │         │ ║  ║  ║  ║  ║  ║ \n",
       "carry_5: ────────────────┤16       ├─╫──╫──╫──╫──╫──╫─\n",
       "                         └─────────┘ ║  ║  ║  ║  ║  ║ \n",
       "value: 6/════════════════════════════╩══╩══╩══╩══╩══╩═\n",
       "                                     0  1  2  3  4  5 "
      ]
     },
     "execution_count": 27,
     "metadata": {},
     "output_type": "execute_result"
    }
   ],
   "source": [
    "from qiskit.circuit.library import WeightedAdder\n",
    "from qiskit.circuit.library import LinearAmplitudeFunction\n",
    "\n",
    "agg = WeightedAdder(num, [10,10,10,10,10])\n",
    "\n",
    "qr_state = QuantumRegister(qc.num_qubits, \"state\")\n",
    "qr_sum = QuantumRegister(agg.num_sum_qubits, \"sum\")\n",
    "qr_carry = QuantumRegister(agg.num_carry_qubits+1, \"carry\")\n",
    "cr = ClassicalRegister(agg.num_sum_qubits, \"value\")\n",
    "\n",
    "L_sum_state = QuantumCircuit(qr_state, qr_sum, qr_carry, cr)\n",
    "\n",
    "# load the variable\n",
    "L_sum_state.append(qc.to_gate(), qr_state)\n",
    "\n",
    "# aggregate\n",
    "L_sum_state.append(agg.to_gate(), qr_state[:] + qr_sum[:] + qr_carry[:])\n",
    "\n",
    "L_sum_state.measure(qr_sum[:],cr[:])\n",
    "\n",
    "L_sum_state.draw()"
   ]
  },
  {
   "cell_type": "code",
   "execution_count": 29,
   "id": "7b593d99-dd03-422a-a791-29a24024d33f",
   "metadata": {},
   "outputs": [],
   "source": [
    "sampler = BackendSampler(backend=backend_sim)\n",
    "job = sampler.run(L_sum_state)\n",
    "binary_probabilities = job.result().quasi_dists[0].binary_probabilities()"
   ]
  },
  {
   "cell_type": "code",
   "execution_count": 30,
   "id": "d87a480d-eaeb-49a0-ab2e-2657148597a0",
   "metadata": {},
   "outputs": [
    {
     "name": "stdout",
     "output_type": "stream",
     "text": [
      "111010 0.03075\n",
      "011010 0.033\n",
      "010011 0.00025\n",
      "011001 0.001\n",
      "101001 0.001\n",
      "010100 0.03125\n",
      "100000 0.0275\n",
      "010110 0.0245\n",
      "010010 0.032\n",
      "101100 0.03\n",
      "100010 0.02875\n",
      "111100 0.02725\n",
      "010001 0.0005\n",
      "111001 0.0005\n",
      "011101 0.00075\n",
      "010111 0.0005\n",
      "011100 0.03\n",
      "101010 0.033\n",
      "000000 0.0355\n",
      "011111 0.0005\n",
      "110000 0.037\n",
      "110100 0.02875\n",
      "000111 0.00075\n",
      "100110 0.0255\n",
      "001000 0.02875\n",
      "011000 0.03325\n",
      "001100 0.0295\n",
      "010101 0.0005\n",
      "111011 0.00075\n",
      "011110 0.032\n",
      "100001 0.00025\n",
      "000011 0.00025\n",
      "101000 0.032\n",
      "101011 0.00075\n",
      "100101 0.00075\n",
      "110010 0.03425\n",
      "001010 0.03425\n",
      "000100 0.029\n",
      "010000 0.031\n",
      "100100 0.02475\n",
      "001001 0.001\n",
      "111000 0.03175\n",
      "001101 0.00075\n",
      "111101 0.001\n",
      "110110 0.031\n",
      "111111 0.00075\n",
      "110111 0.001\n",
      "000010 0.031\n",
      "001110 0.031\n",
      "111110 0.03\n",
      "100111 0.0005\n",
      "110101 0.0005\n",
      "110001 0.00125\n",
      "000001 0.0005\n",
      "100011 0.0005\n",
      "000110 0.03125\n",
      "001011 0.00025\n",
      "000101 0.0005\n",
      "101110 0.0315\n",
      "011011 0.00025\n",
      "110011 0.00125\n"
     ]
    }
   ],
   "source": [
    "qubit_state_L = []\n",
    "\n",
    "for i, prob in binary_probabilities.items():\n",
    "    print(i,prob)\n",
    "    qubit_state_L.append([i,prob])\n",
    "\n",
    "qubit_state_L.sort()"
   ]
  },
  {
   "cell_type": "code",
   "execution_count": 31,
   "id": "6ee48998-f30f-4da5-b81d-1dfda0608c61",
   "metadata": {},
   "outputs": [
    {
     "data": {
      "image/png": "[encoded data removed]",
      "text/plain": [
       "<Figure size 640x480 with 1 Axes>"
      ]
     },
     "metadata": {},
     "output_type": "display_data"
    }
   ],
   "source": [
    "# plot probabilities of each states\n",
    "q_state_L = []\n",
    "q_prob_L = []\n",
    "for state in qubit_state_L:\n",
    "    q_state_L.append(state[0])\n",
    "    q_prob_L.append(state[1])\n",
    "\n",
    "plt.bar(q_state_L,q_prob_L)\n",
    "#plt.legend(fontsize=15)\n",
    "plt.xlabel(\"state\", size=10)\n",
    "plt.ylabel(\"probability (%)\", size=10)\n",
    "plt.title(\"Qubit State\", size=20)\n",
    "plt.xticks(size=5,rotation=45)\n",
    "plt.yticks(size=10)\n",
    "plt.show()"
   ]
  }
 ],
 "metadata": {
  "kernelspec": {
   "display_name": "Python 3 (ipykernel)",
   "language": "python",
   "name": "python3"
  },
  "language_info": {
   "codemirror_mode": {
    "name": "ipython",
    "version": 3
   },
   "file_extension": ".py",
   "mimetype": "text/x-python",
   "name": "python",
   "nbconvert_exporter": "python",
   "pygments_lexer": "ipython3",
   "version": "3.9.19"
  }
 },
 "nbformat": 4,
 "nbformat_minor": 5
}
